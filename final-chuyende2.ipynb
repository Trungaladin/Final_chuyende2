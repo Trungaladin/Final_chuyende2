{
 "cells": [
  {
   "cell_type": "markdown",
   "id": "3745f1f2",
   "metadata": {},
   "source": [
    "# Real-world Data Wrangling\n",
    "### Fullname: Nguyễn Văn Trung\n",
    "### ID: 21IT658\n",
    "### Class: 21KIT"
   ]
  },
  {
   "cell_type": "markdown",
   "id": "73408f8f",
   "metadata": {},
   "source": [
    "### 1. Gather data"
   ]
  },
  {
   "cell_type": "markdown",
   "id": "1edb2d19",
   "metadata": {},
   "source": [
    "### 1.1 Problem Statement\n",
    "This project aims to practice my skills of data wrangling using real-world datasets.\n",
    "\n",
    "Your statements here\n",
    "\n",
    "In this dataset, I would like to answer the following research questions:\n",
    "\n",
    "Question 1: Việc hút thuốc ảnh hưởng như thế nào đến chỉ số huyết áp (tâm thu và tâm trương)?\n",
    "\n",
    "Question 2: Những người hút thuốc có chỉ số BMI (Body Mass Index) khác biệt so với những người không hút thuốc không?\n",
    "\n",
    "Question 3: Việc hút thuốc có ảnh hưởng đến các chỉ số men gan (AST, ALT, Gtp) không?\n",
    "\n",
    "Question 4: Những người hút thuốc có tỷ lệ bị sâu răng và cao răng cao hơn so với những người không hút thuốc không?\n",
    "\n",
    "Question 5:\n",
    "\n",
    "Question 6:"
   ]
  },
  {
   "cell_type": "markdown",
   "id": "0fc4cf88",
   "metadata": {},
   "source": [
    "### 1.2. Gather at least two datasets using two different data gathering methods\n",
    "Gather each of the 2 pieces of data from different sources:"
   ]
  },
  {
   "cell_type": "code",
   "execution_count": 34,
   "id": "69707645",
   "metadata": {},
   "outputs": [],
   "source": [
    "# import libraries:\n",
    "import pandas as pd\n",
    "import matplotlib.pyplot as plt\n",
    "import seaborn as sns\n"
   ]
  },
  {
   "cell_type": "code",
   "execution_count": 35,
   "id": "40a85a57",
   "metadata": {},
   "outputs": [],
   "source": [
    "#FILL IN 1st data gathering and loading method\n",
    "# Đọc dữ liệu từ tập tin CSV\n",
    "df1 = pd.read_csv('smoking.csv')"
   ]
  },
  {
   "cell_type": "code",
   "execution_count": 36,
   "id": "db7ce7fb",
   "metadata": {
    "scrolled": false
   },
   "outputs": [
    {
     "data": {
      "text/html": [
       "<div>\n",
       "<style scoped>\n",
       "    .dataframe tbody tr th:only-of-type {\n",
       "        vertical-align: middle;\n",
       "    }\n",
       "\n",
       "    .dataframe tbody tr th {\n",
       "        vertical-align: top;\n",
       "    }\n",
       "\n",
       "    .dataframe thead th {\n",
       "        text-align: right;\n",
       "    }\n",
       "</style>\n",
       "<table border=\"1\" class=\"dataframe\">\n",
       "  <thead>\n",
       "    <tr style=\"text-align: right;\">\n",
       "      <th></th>\n",
       "      <th>ID</th>\n",
       "      <th>gender</th>\n",
       "      <th>age</th>\n",
       "      <th>height(cm)</th>\n",
       "      <th>weight(kg)</th>\n",
       "      <th>waist(cm)</th>\n",
       "      <th>eyesight(left)</th>\n",
       "      <th>eyesight(right)</th>\n",
       "      <th>hearing(left)</th>\n",
       "      <th>hearing(right)</th>\n",
       "      <th>...</th>\n",
       "      <th>hemoglobin</th>\n",
       "      <th>Urine protein</th>\n",
       "      <th>serum creatinine</th>\n",
       "      <th>AST</th>\n",
       "      <th>ALT</th>\n",
       "      <th>Gtp</th>\n",
       "      <th>oral</th>\n",
       "      <th>dental caries</th>\n",
       "      <th>tartar</th>\n",
       "      <th>smoking</th>\n",
       "    </tr>\n",
       "  </thead>\n",
       "  <tbody>\n",
       "    <tr>\n",
       "      <th>0</th>\n",
       "      <td>0</td>\n",
       "      <td>F</td>\n",
       "      <td>40</td>\n",
       "      <td>155</td>\n",
       "      <td>60</td>\n",
       "      <td>81.3</td>\n",
       "      <td>1.2</td>\n",
       "      <td>1.0</td>\n",
       "      <td>1.0</td>\n",
       "      <td>1.0</td>\n",
       "      <td>...</td>\n",
       "      <td>12.9</td>\n",
       "      <td>1.0</td>\n",
       "      <td>0.7</td>\n",
       "      <td>18.0</td>\n",
       "      <td>19.0</td>\n",
       "      <td>27.0</td>\n",
       "      <td>Y</td>\n",
       "      <td>0</td>\n",
       "      <td>Y</td>\n",
       "      <td>0</td>\n",
       "    </tr>\n",
       "    <tr>\n",
       "      <th>1</th>\n",
       "      <td>1</td>\n",
       "      <td>F</td>\n",
       "      <td>40</td>\n",
       "      <td>160</td>\n",
       "      <td>60</td>\n",
       "      <td>81.0</td>\n",
       "      <td>0.8</td>\n",
       "      <td>0.6</td>\n",
       "      <td>1.0</td>\n",
       "      <td>1.0</td>\n",
       "      <td>...</td>\n",
       "      <td>12.7</td>\n",
       "      <td>1.0</td>\n",
       "      <td>0.6</td>\n",
       "      <td>22.0</td>\n",
       "      <td>19.0</td>\n",
       "      <td>18.0</td>\n",
       "      <td>Y</td>\n",
       "      <td>0</td>\n",
       "      <td>Y</td>\n",
       "      <td>0</td>\n",
       "    </tr>\n",
       "    <tr>\n",
       "      <th>2</th>\n",
       "      <td>2</td>\n",
       "      <td>M</td>\n",
       "      <td>55</td>\n",
       "      <td>170</td>\n",
       "      <td>60</td>\n",
       "      <td>80.0</td>\n",
       "      <td>0.8</td>\n",
       "      <td>0.8</td>\n",
       "      <td>1.0</td>\n",
       "      <td>1.0</td>\n",
       "      <td>...</td>\n",
       "      <td>15.8</td>\n",
       "      <td>1.0</td>\n",
       "      <td>1.0</td>\n",
       "      <td>21.0</td>\n",
       "      <td>16.0</td>\n",
       "      <td>22.0</td>\n",
       "      <td>Y</td>\n",
       "      <td>0</td>\n",
       "      <td>N</td>\n",
       "      <td>1</td>\n",
       "    </tr>\n",
       "    <tr>\n",
       "      <th>3</th>\n",
       "      <td>3</td>\n",
       "      <td>M</td>\n",
       "      <td>40</td>\n",
       "      <td>165</td>\n",
       "      <td>70</td>\n",
       "      <td>88.0</td>\n",
       "      <td>1.5</td>\n",
       "      <td>1.5</td>\n",
       "      <td>1.0</td>\n",
       "      <td>1.0</td>\n",
       "      <td>...</td>\n",
       "      <td>14.7</td>\n",
       "      <td>1.0</td>\n",
       "      <td>1.0</td>\n",
       "      <td>19.0</td>\n",
       "      <td>26.0</td>\n",
       "      <td>18.0</td>\n",
       "      <td>Y</td>\n",
       "      <td>0</td>\n",
       "      <td>Y</td>\n",
       "      <td>0</td>\n",
       "    </tr>\n",
       "    <tr>\n",
       "      <th>4</th>\n",
       "      <td>4</td>\n",
       "      <td>F</td>\n",
       "      <td>40</td>\n",
       "      <td>155</td>\n",
       "      <td>60</td>\n",
       "      <td>86.0</td>\n",
       "      <td>1.0</td>\n",
       "      <td>1.0</td>\n",
       "      <td>1.0</td>\n",
       "      <td>1.0</td>\n",
       "      <td>...</td>\n",
       "      <td>12.5</td>\n",
       "      <td>1.0</td>\n",
       "      <td>0.6</td>\n",
       "      <td>16.0</td>\n",
       "      <td>14.0</td>\n",
       "      <td>22.0</td>\n",
       "      <td>Y</td>\n",
       "      <td>0</td>\n",
       "      <td>N</td>\n",
       "      <td>0</td>\n",
       "    </tr>\n",
       "  </tbody>\n",
       "</table>\n",
       "<p>5 rows × 27 columns</p>\n",
       "</div>"
      ],
      "text/plain": [
       "   ID gender  age  height(cm)  weight(kg)  waist(cm)  eyesight(left)  \\\n",
       "0   0      F   40         155          60       81.3             1.2   \n",
       "1   1      F   40         160          60       81.0             0.8   \n",
       "2   2      M   55         170          60       80.0             0.8   \n",
       "3   3      M   40         165          70       88.0             1.5   \n",
       "4   4      F   40         155          60       86.0             1.0   \n",
       "\n",
       "   eyesight(right)  hearing(left)  hearing(right)  ...  hemoglobin  \\\n",
       "0              1.0            1.0             1.0  ...        12.9   \n",
       "1              0.6            1.0             1.0  ...        12.7   \n",
       "2              0.8            1.0             1.0  ...        15.8   \n",
       "3              1.5            1.0             1.0  ...        14.7   \n",
       "4              1.0            1.0             1.0  ...        12.5   \n",
       "\n",
       "   Urine protein  serum creatinine   AST   ALT   Gtp  oral  dental caries  \\\n",
       "0            1.0               0.7  18.0  19.0  27.0     Y              0   \n",
       "1            1.0               0.6  22.0  19.0  18.0     Y              0   \n",
       "2            1.0               1.0  21.0  16.0  22.0     Y              0   \n",
       "3            1.0               1.0  19.0  26.0  18.0     Y              0   \n",
       "4            1.0               0.6  16.0  14.0  22.0     Y              0   \n",
       "\n",
       "   tartar  smoking  \n",
       "0       Y        0  \n",
       "1       Y        0  \n",
       "2       N        1  \n",
       "3       Y        0  \n",
       "4       N        0  \n",
       "\n",
       "[5 rows x 27 columns]"
      ]
     },
     "execution_count": 36,
     "metadata": {},
     "output_type": "execute_result"
    }
   ],
   "source": [
    "df1.head()"
   ]
  },
  {
   "cell_type": "code",
   "execution_count": 37,
   "id": "c580316f",
   "metadata": {},
   "outputs": [],
   "source": [
    "# Chuyển đổi các cột có định dạng không phù hợp\n",
    "df1['age'] = df1['age'].astype(int)\n",
    "df1['height(cm)'] = df1['height(cm)'].astype(float)\n",
    "df1['weight(kg)'] = df1['weight(kg)'].astype(float)\n",
    "df1['waist(cm)'] = df1['waist(cm)'].astype(float)"
   ]
  },
  {
   "cell_type": "code",
   "execution_count": 38,
   "id": "8b7ba610",
   "metadata": {},
   "outputs": [],
   "source": [
    "# Thêm cột BMI\n",
    "df1['BMI'] = df1['weight(kg)'] / (df1['height(cm)'] / 100) ** 2"
   ]
  },
  {
   "cell_type": "code",
   "execution_count": 39,
   "id": "f46b00c5",
   "metadata": {},
   "outputs": [],
   "source": [
    "#FILL IN 2nd data gathering and loading method"
   ]
  },
  {
   "cell_type": "code",
   "execution_count": 40,
   "id": "840d85f3",
   "metadata": {},
   "outputs": [],
   "source": [
    "# Write data to local file "
   ]
  },
  {
   "cell_type": "markdown",
   "id": "6308e1e3",
   "metadata": {},
   "source": [
    "### 2. Assess data\n",
    "I will assess the data both visually and programmatically to identify any data quality(content) issues and tidiness(structual) issues.\n",
    "\n"
   ]
  },
  {
   "cell_type": "markdown",
   "id": "0500a16e",
   "metadata": {},
   "source": [
    "### Issue 1:"
   ]
  },
  {
   "cell_type": "markdown",
   "id": "22d972b6",
   "metadata": {},
   "source": [
    "# FILL IN - Inspecting the dataframe visually\n"
   ]
  },
  {
   "cell_type": "code",
   "execution_count": 41,
   "id": "3982f021",
   "metadata": {},
   "outputs": [
    {
     "data": {
      "text/html": [
       "<div>\n",
       "<style scoped>\n",
       "    .dataframe tbody tr th:only-of-type {\n",
       "        vertical-align: middle;\n",
       "    }\n",
       "\n",
       "    .dataframe tbody tr th {\n",
       "        vertical-align: top;\n",
       "    }\n",
       "\n",
       "    .dataframe thead th {\n",
       "        text-align: right;\n",
       "    }\n",
       "</style>\n",
       "<table border=\"1\" class=\"dataframe\">\n",
       "  <thead>\n",
       "    <tr style=\"text-align: right;\">\n",
       "      <th></th>\n",
       "      <th>ID</th>\n",
       "      <th>age</th>\n",
       "      <th>height(cm)</th>\n",
       "      <th>weight(kg)</th>\n",
       "      <th>waist(cm)</th>\n",
       "      <th>eyesight(left)</th>\n",
       "      <th>eyesight(right)</th>\n",
       "      <th>hearing(left)</th>\n",
       "      <th>hearing(right)</th>\n",
       "      <th>systolic</th>\n",
       "      <th>...</th>\n",
       "      <th>LDL</th>\n",
       "      <th>hemoglobin</th>\n",
       "      <th>Urine protein</th>\n",
       "      <th>serum creatinine</th>\n",
       "      <th>AST</th>\n",
       "      <th>ALT</th>\n",
       "      <th>Gtp</th>\n",
       "      <th>dental caries</th>\n",
       "      <th>smoking</th>\n",
       "      <th>BMI</th>\n",
       "    </tr>\n",
       "  </thead>\n",
       "  <tbody>\n",
       "    <tr>\n",
       "      <th>count</th>\n",
       "      <td>55692.000000</td>\n",
       "      <td>55692.000000</td>\n",
       "      <td>55692.000000</td>\n",
       "      <td>55692.000000</td>\n",
       "      <td>55692.000000</td>\n",
       "      <td>55692.000000</td>\n",
       "      <td>55692.000000</td>\n",
       "      <td>55692.000000</td>\n",
       "      <td>55692.000000</td>\n",
       "      <td>55692.000000</td>\n",
       "      <td>...</td>\n",
       "      <td>55692.000000</td>\n",
       "      <td>55692.000000</td>\n",
       "      <td>55692.000000</td>\n",
       "      <td>55692.000000</td>\n",
       "      <td>55692.000000</td>\n",
       "      <td>55692.000000</td>\n",
       "      <td>55692.000000</td>\n",
       "      <td>55692.000000</td>\n",
       "      <td>55692.000000</td>\n",
       "      <td>55692.000000</td>\n",
       "    </tr>\n",
       "    <tr>\n",
       "      <th>mean</th>\n",
       "      <td>27845.500000</td>\n",
       "      <td>44.182917</td>\n",
       "      <td>164.649321</td>\n",
       "      <td>65.864936</td>\n",
       "      <td>82.046418</td>\n",
       "      <td>1.012623</td>\n",
       "      <td>1.007443</td>\n",
       "      <td>1.025587</td>\n",
       "      <td>1.026144</td>\n",
       "      <td>121.494218</td>\n",
       "      <td>...</td>\n",
       "      <td>114.964501</td>\n",
       "      <td>14.622592</td>\n",
       "      <td>1.087212</td>\n",
       "      <td>0.885738</td>\n",
       "      <td>26.182935</td>\n",
       "      <td>27.036037</td>\n",
       "      <td>39.952201</td>\n",
       "      <td>0.213334</td>\n",
       "      <td>0.367288</td>\n",
       "      <td>24.165677</td>\n",
       "    </tr>\n",
       "    <tr>\n",
       "      <th>std</th>\n",
       "      <td>16077.039933</td>\n",
       "      <td>12.071418</td>\n",
       "      <td>9.194597</td>\n",
       "      <td>12.820306</td>\n",
       "      <td>9.274223</td>\n",
       "      <td>0.486873</td>\n",
       "      <td>0.485964</td>\n",
       "      <td>0.157902</td>\n",
       "      <td>0.159564</td>\n",
       "      <td>13.675989</td>\n",
       "      <td>...</td>\n",
       "      <td>40.926476</td>\n",
       "      <td>1.564498</td>\n",
       "      <td>0.404882</td>\n",
       "      <td>0.221524</td>\n",
       "      <td>19.355460</td>\n",
       "      <td>30.947853</td>\n",
       "      <td>50.290539</td>\n",
       "      <td>0.409665</td>\n",
       "      <td>0.482070</td>\n",
       "      <td>3.477252</td>\n",
       "    </tr>\n",
       "    <tr>\n",
       "      <th>min</th>\n",
       "      <td>0.000000</td>\n",
       "      <td>20.000000</td>\n",
       "      <td>130.000000</td>\n",
       "      <td>30.000000</td>\n",
       "      <td>51.000000</td>\n",
       "      <td>0.100000</td>\n",
       "      <td>0.100000</td>\n",
       "      <td>1.000000</td>\n",
       "      <td>1.000000</td>\n",
       "      <td>71.000000</td>\n",
       "      <td>...</td>\n",
       "      <td>1.000000</td>\n",
       "      <td>4.900000</td>\n",
       "      <td>1.000000</td>\n",
       "      <td>0.100000</td>\n",
       "      <td>6.000000</td>\n",
       "      <td>1.000000</td>\n",
       "      <td>1.000000</td>\n",
       "      <td>0.000000</td>\n",
       "      <td>0.000000</td>\n",
       "      <td>14.268728</td>\n",
       "    </tr>\n",
       "    <tr>\n",
       "      <th>25%</th>\n",
       "      <td>13922.750000</td>\n",
       "      <td>40.000000</td>\n",
       "      <td>160.000000</td>\n",
       "      <td>55.000000</td>\n",
       "      <td>76.000000</td>\n",
       "      <td>0.800000</td>\n",
       "      <td>0.800000</td>\n",
       "      <td>1.000000</td>\n",
       "      <td>1.000000</td>\n",
       "      <td>112.000000</td>\n",
       "      <td>...</td>\n",
       "      <td>92.000000</td>\n",
       "      <td>13.600000</td>\n",
       "      <td>1.000000</td>\n",
       "      <td>0.800000</td>\n",
       "      <td>19.000000</td>\n",
       "      <td>15.000000</td>\n",
       "      <td>17.000000</td>\n",
       "      <td>0.000000</td>\n",
       "      <td>0.000000</td>\n",
       "      <td>21.604938</td>\n",
       "    </tr>\n",
       "    <tr>\n",
       "      <th>50%</th>\n",
       "      <td>27845.500000</td>\n",
       "      <td>40.000000</td>\n",
       "      <td>165.000000</td>\n",
       "      <td>65.000000</td>\n",
       "      <td>82.000000</td>\n",
       "      <td>1.000000</td>\n",
       "      <td>1.000000</td>\n",
       "      <td>1.000000</td>\n",
       "      <td>1.000000</td>\n",
       "      <td>120.000000</td>\n",
       "      <td>...</td>\n",
       "      <td>113.000000</td>\n",
       "      <td>14.800000</td>\n",
       "      <td>1.000000</td>\n",
       "      <td>0.900000</td>\n",
       "      <td>23.000000</td>\n",
       "      <td>21.000000</td>\n",
       "      <td>25.000000</td>\n",
       "      <td>0.000000</td>\n",
       "      <td>0.000000</td>\n",
       "      <td>23.875115</td>\n",
       "    </tr>\n",
       "    <tr>\n",
       "      <th>75%</th>\n",
       "      <td>41768.250000</td>\n",
       "      <td>55.000000</td>\n",
       "      <td>170.000000</td>\n",
       "      <td>75.000000</td>\n",
       "      <td>88.000000</td>\n",
       "      <td>1.200000</td>\n",
       "      <td>1.200000</td>\n",
       "      <td>1.000000</td>\n",
       "      <td>1.000000</td>\n",
       "      <td>130.000000</td>\n",
       "      <td>...</td>\n",
       "      <td>136.000000</td>\n",
       "      <td>15.800000</td>\n",
       "      <td>1.000000</td>\n",
       "      <td>1.000000</td>\n",
       "      <td>28.000000</td>\n",
       "      <td>31.000000</td>\n",
       "      <td>43.000000</td>\n",
       "      <td>0.000000</td>\n",
       "      <td>1.000000</td>\n",
       "      <td>26.122449</td>\n",
       "    </tr>\n",
       "    <tr>\n",
       "      <th>max</th>\n",
       "      <td>55691.000000</td>\n",
       "      <td>85.000000</td>\n",
       "      <td>190.000000</td>\n",
       "      <td>135.000000</td>\n",
       "      <td>129.000000</td>\n",
       "      <td>9.900000</td>\n",
       "      <td>9.900000</td>\n",
       "      <td>2.000000</td>\n",
       "      <td>2.000000</td>\n",
       "      <td>240.000000</td>\n",
       "      <td>...</td>\n",
       "      <td>1860.000000</td>\n",
       "      <td>21.100000</td>\n",
       "      <td>6.000000</td>\n",
       "      <td>11.600000</td>\n",
       "      <td>1311.000000</td>\n",
       "      <td>2914.000000</td>\n",
       "      <td>999.000000</td>\n",
       "      <td>1.000000</td>\n",
       "      <td>1.000000</td>\n",
       "      <td>42.448980</td>\n",
       "    </tr>\n",
       "  </tbody>\n",
       "</table>\n",
       "<p>8 rows × 25 columns</p>\n",
       "</div>"
      ],
      "text/plain": [
       "                 ID           age    height(cm)    weight(kg)     waist(cm)  \\\n",
       "count  55692.000000  55692.000000  55692.000000  55692.000000  55692.000000   \n",
       "mean   27845.500000     44.182917    164.649321     65.864936     82.046418   \n",
       "std    16077.039933     12.071418      9.194597     12.820306      9.274223   \n",
       "min        0.000000     20.000000    130.000000     30.000000     51.000000   \n",
       "25%    13922.750000     40.000000    160.000000     55.000000     76.000000   \n",
       "50%    27845.500000     40.000000    165.000000     65.000000     82.000000   \n",
       "75%    41768.250000     55.000000    170.000000     75.000000     88.000000   \n",
       "max    55691.000000     85.000000    190.000000    135.000000    129.000000   \n",
       "\n",
       "       eyesight(left)  eyesight(right)  hearing(left)  hearing(right)  \\\n",
       "count    55692.000000     55692.000000   55692.000000    55692.000000   \n",
       "mean         1.012623         1.007443       1.025587        1.026144   \n",
       "std          0.486873         0.485964       0.157902        0.159564   \n",
       "min          0.100000         0.100000       1.000000        1.000000   \n",
       "25%          0.800000         0.800000       1.000000        1.000000   \n",
       "50%          1.000000         1.000000       1.000000        1.000000   \n",
       "75%          1.200000         1.200000       1.000000        1.000000   \n",
       "max          9.900000         9.900000       2.000000        2.000000   \n",
       "\n",
       "           systolic  ...           LDL    hemoglobin  Urine protein  \\\n",
       "count  55692.000000  ...  55692.000000  55692.000000   55692.000000   \n",
       "mean     121.494218  ...    114.964501     14.622592       1.087212   \n",
       "std       13.675989  ...     40.926476      1.564498       0.404882   \n",
       "min       71.000000  ...      1.000000      4.900000       1.000000   \n",
       "25%      112.000000  ...     92.000000     13.600000       1.000000   \n",
       "50%      120.000000  ...    113.000000     14.800000       1.000000   \n",
       "75%      130.000000  ...    136.000000     15.800000       1.000000   \n",
       "max      240.000000  ...   1860.000000     21.100000       6.000000   \n",
       "\n",
       "       serum creatinine           AST           ALT           Gtp  \\\n",
       "count      55692.000000  55692.000000  55692.000000  55692.000000   \n",
       "mean           0.885738     26.182935     27.036037     39.952201   \n",
       "std            0.221524     19.355460     30.947853     50.290539   \n",
       "min            0.100000      6.000000      1.000000      1.000000   \n",
       "25%            0.800000     19.000000     15.000000     17.000000   \n",
       "50%            0.900000     23.000000     21.000000     25.000000   \n",
       "75%            1.000000     28.000000     31.000000     43.000000   \n",
       "max           11.600000   1311.000000   2914.000000    999.000000   \n",
       "\n",
       "       dental caries       smoking           BMI  \n",
       "count   55692.000000  55692.000000  55692.000000  \n",
       "mean        0.213334      0.367288     24.165677  \n",
       "std         0.409665      0.482070      3.477252  \n",
       "min         0.000000      0.000000     14.268728  \n",
       "25%         0.000000      0.000000     21.604938  \n",
       "50%         0.000000      0.000000     23.875115  \n",
       "75%         0.000000      1.000000     26.122449  \n",
       "max         1.000000      1.000000     42.448980  \n",
       "\n",
       "[8 rows x 25 columns]"
      ]
     },
     "execution_count": 41,
     "metadata": {},
     "output_type": "execute_result"
    }
   ],
   "source": [
    "df1.describe()"
   ]
  },
  {
   "cell_type": "code",
   "execution_count": 42,
   "id": "5a690fb7",
   "metadata": {},
   "outputs": [
    {
     "name": "stdout",
     "output_type": "stream",
     "text": [
      "<class 'pandas.core.frame.DataFrame'>\n",
      "RangeIndex: 55692 entries, 0 to 55691\n",
      "Data columns (total 28 columns):\n",
      " #   Column               Non-Null Count  Dtype  \n",
      "---  ------               --------------  -----  \n",
      " 0   ID                   55692 non-null  int64  \n",
      " 1   gender               55692 non-null  object \n",
      " 2   age                  55692 non-null  int32  \n",
      " 3   height(cm)           55692 non-null  float64\n",
      " 4   weight(kg)           55692 non-null  float64\n",
      " 5   waist(cm)            55692 non-null  float64\n",
      " 6   eyesight(left)       55692 non-null  float64\n",
      " 7   eyesight(right)      55692 non-null  float64\n",
      " 8   hearing(left)        55692 non-null  float64\n",
      " 9   hearing(right)       55692 non-null  float64\n",
      " 10  systolic             55692 non-null  float64\n",
      " 11  relaxation           55692 non-null  float64\n",
      " 12  fasting blood sugar  55692 non-null  float64\n",
      " 13  Cholesterol          55692 non-null  float64\n",
      " 14  triglyceride         55692 non-null  float64\n",
      " 15  HDL                  55692 non-null  float64\n",
      " 16  LDL                  55692 non-null  float64\n",
      " 17  hemoglobin           55692 non-null  float64\n",
      " 18  Urine protein        55692 non-null  float64\n",
      " 19  serum creatinine     55692 non-null  float64\n",
      " 20  AST                  55692 non-null  float64\n",
      " 21  ALT                  55692 non-null  float64\n",
      " 22  Gtp                  55692 non-null  float64\n",
      " 23  oral                 55692 non-null  object \n",
      " 24  dental caries        55692 non-null  int64  \n",
      " 25  tartar               55692 non-null  object \n",
      " 26  smoking              55692 non-null  int64  \n",
      " 27  BMI                  55692 non-null  float64\n",
      "dtypes: float64(21), int32(1), int64(3), object(3)\n",
      "memory usage: 11.7+ MB\n"
     ]
    }
   ],
   "source": [
    "df1.info()"
   ]
  },
  {
   "cell_type": "code",
   "execution_count": 43,
   "id": "af5d548a",
   "metadata": {},
   "outputs": [
    {
     "data": {
      "text/plain": [
       "ID                     0\n",
       "gender                 0\n",
       "age                    0\n",
       "height(cm)             0\n",
       "weight(kg)             0\n",
       "waist(cm)              0\n",
       "eyesight(left)         0\n",
       "eyesight(right)        0\n",
       "hearing(left)          0\n",
       "hearing(right)         0\n",
       "systolic               0\n",
       "relaxation             0\n",
       "fasting blood sugar    0\n",
       "Cholesterol            0\n",
       "triglyceride           0\n",
       "HDL                    0\n",
       "LDL                    0\n",
       "hemoglobin             0\n",
       "Urine protein          0\n",
       "serum creatinine       0\n",
       "AST                    0\n",
       "ALT                    0\n",
       "Gtp                    0\n",
       "oral                   0\n",
       "dental caries          0\n",
       "tartar                 0\n",
       "smoking                0\n",
       "BMI                    0\n",
       "dtype: int64"
      ]
     },
     "execution_count": 43,
     "metadata": {},
     "output_type": "execute_result"
    }
   ],
   "source": [
    "df1.isnull().sum()"
   ]
  },
  {
   "cell_type": "markdown",
   "id": "fbb50dfc",
   "metadata": {},
   "source": [
    "### Observations:\n",
    "- Tuổi nhỏ nhất là 20, nhưng chiều cao nhỏ nhất lại là 130cm, điều này là vô lí\n",
    "- Dataset không có missing value\n",
    "- Có các cột dữ liệu có kiểu dữ liệu không hợp lí\n",
    "\n"
   ]
  },
  {
   "cell_type": "code",
   "execution_count": 44,
   "id": "3896fb1e",
   "metadata": {},
   "outputs": [],
   "source": [
    "#FILL IN"
   ]
  },
  {
   "cell_type": "markdown",
   "id": "abace16c",
   "metadata": {},
   "source": [
    "### 3. Clean data"
   ]
  },
  {
   "cell_type": "markdown",
   "id": "f0cdd3df",
   "metadata": {},
   "source": [
    "### Issue 1:"
   ]
  },
  {
   "cell_type": "code",
   "execution_count": 45,
   "id": "1750dee3",
   "metadata": {},
   "outputs": [],
   "source": [
    "# Chuyển đổi các cột có định dạng không phù hợp\n",
    "df1['age'] = df1['age'].astype(int)\n",
    "df1['height(cm)'] = df1['height(cm)'].astype(float)\n",
    "df1['weight(kg)'] = df1['weight(kg)'].astype(float)\n",
    "df1['waist(cm)'] = df1['waist(cm)'].astype(float)"
   ]
  },
  {
   "cell_type": "code",
   "execution_count": 46,
   "id": "0833f34f",
   "metadata": {},
   "outputs": [
    {
     "name": "stdout",
     "output_type": "stream",
     "text": [
      "20 85\n",
      "130.0 190.0\n"
     ]
    }
   ],
   "source": [
    "# Kiểm tra độ tuổi\n",
    "print(df1['age'].min(), df1['age'].max())\n",
    "\n",
    "# Kiểm tra chiều cao\n",
    "print(df1['height(cm)'].min(), df1['height(cm)'].max())\n"
   ]
  },
  {
   "cell_type": "code",
   "execution_count": 47,
   "id": "e0881ba3",
   "metadata": {},
   "outputs": [],
   "source": [
    "# Loại bỏ các giá trị không hợp lý\n",
    "df1 = df1[(df1['age'] >= 18) & (df1['age'] <= 100) & (df1['height(cm)'] >= 150) & (df1['height(cm)'] <= 220)]"
   ]
  },
  {
   "cell_type": "markdown",
   "id": "bdbe334d",
   "metadata": {},
   "source": [
    "## Answer the research question"
   ]
  },
  {
   "cell_type": "markdown",
   "id": "8d1bb8e9",
   "metadata": {},
   "source": [
    "Question 1: Việc hút thuốc ảnh hưởng như thế nào đến chỉ số huyết áp (tâm thu và tâm trương)?"
   ]
  },
  {
   "cell_type": "code",
   "execution_count": 48,
   "id": "05bcf3a6",
   "metadata": {},
   "outputs": [],
   "source": [
    "# Lọc dữ liệu cho nhóm không hút thuốc\n",
    "non_smokers = df1[df1['smoking'] == 0]\n",
    "non_smokers_bp = non_smokers[['systolic', 'relaxation']]"
   ]
  },
  {
   "cell_type": "code",
   "execution_count": 49,
   "id": "19bca4cb",
   "metadata": {},
   "outputs": [],
   "source": [
    "# Lọc dữ liệu cho nhóm hút thuốc\n",
    "smokers = df1[df1['smoking'] == 1]\n",
    "smokers_bp = smokers[['systolic', 'relaxation']]"
   ]
  },
  {
   "cell_type": "code",
   "execution_count": 50,
   "id": "c6d176cf",
   "metadata": {},
   "outputs": [],
   "source": [
    "# Tính giá trị trung bình huyết áp cho cả hai nhóm\n",
    "mean_non_smokers_bp = non_smokers_bp.mean()\n",
    "mean_smokers_bp = smokers_bp.mean()"
   ]
  },
  {
   "cell_type": "code",
   "execution_count": 51,
   "id": "97fb7908",
   "metadata": {},
   "outputs": [
    {
     "data": {
      "image/png": "[encoded data removed]",
      "text/plain": [
       "<Figure size 1000x600 with 1 Axes>"
      ]
     },
     "metadata": {},
     "output_type": "display_data"
    }
   ],
   "source": [
    "# Vẽ biểu đồ so sánh huyết áp giữa hai nhóm\n",
    "plt.figure(figsize=(10, 6))\n",
    "plt.bar(['Non-smokers', 'Smokers'], mean_non_smokers_bp, label='Non-Smokers')\n",
    "plt.bar(['Non-smokers', 'Smokers'], mean_smokers_bp, label='Smokers')\n",
    "plt.xlabel('Nhóm người')\n",
    "plt.ylabel('Huyết áp')\n",
    "plt.title('So sánh huyết áp người hút thuốc và không hút thuốc')\n",
    "plt.legend()\n",
    "plt.show()"
   ]
  },
  {
   "cell_type": "markdown",
   "id": "9d02dc8b",
   "metadata": {},
   "source": [
    "Question 2:   Những người hút thuốc có chỉ số BMI (Body Mass Index) khác biệt so với những người không hút thuốc không?"
   ]
  },
  {
   "cell_type": "code",
   "execution_count": 52,
   "id": "5db84993",
   "metadata": {},
   "outputs": [
    {
     "name": "stdout",
     "output_type": "stream",
     "text": [
      "smoking\n",
      "0    23.858989\n",
      "1    24.655582\n",
      "Name: BMI, dtype: float64\n"
     ]
    }
   ],
   "source": [
    "# Tính toán giá trị trung bình của BMI cho người hút thuốc và không hút thuốc\n",
    "bmi_by_smoking = df1.groupby('smoking')['BMI'].mean()\n",
    "print(bmi_by_smoking)"
   ]
  },
  {
   "cell_type": "code",
   "execution_count": 53,
   "id": "0d651187",
   "metadata": {},
   "outputs": [
    {
     "data": {
      "image/png": "[encoded data removed]",
      "text/plain": [
       "<Figure size 800x600 with 1 Axes>"
      ]
     },
     "metadata": {},
     "output_type": "display_data"
    }
   ],
   "source": [
    "# Vẽ biểu đồ so sánh chỉ số BMI giữa người hút thuốc và không hút thuốc\n",
    "plt.figure(figsize=(8, 6))\n",
    "sns.barplot(x=bmi_by_smoking.index, y=bmi_by_smoking.values)\n",
    "plt.xlabel('Smoking')\n",
    "plt.ylabel('Average BMI')\n",
    "plt.title('Average BMI of Smokers vs Non-Smokers')\n",
    "plt.xticks([0, 1], ['Non-Smokers', 'Smokers'])\n",
    "plt.show()"
   ]
  },
  {
   "cell_type": "markdown",
   "id": "6703f614",
   "metadata": {},
   "source": [
    "Question 3:  Việc hút thuốc có ảnh hưởng đến các chỉ số men gan (AST, ALT, Gtp) không?"
   ]
  },
  {
   "cell_type": "code",
   "execution_count": 54,
   "id": "94153d0e",
   "metadata": {},
   "outputs": [
    {
     "name": "stdout",
     "output_type": "stream",
     "text": [
      "               AST        ALT        Gtp\n",
      "smoking                                 \n",
      "0        25.204653  24.743881  31.009903\n",
      "1        27.695778  31.009208  55.573276\n"
     ]
    }
   ],
   "source": [
    "# Tính toán giá trị trung bình của AST, ALT, Gtp cho người hút thuốc và không hút thuốc\n",
    "liver_enzymes = df1.groupby('smoking')[['AST', 'ALT', 'Gtp']].mean()\n",
    "\n",
    "print(liver_enzymes)"
   ]
  },
  {
   "cell_type": "code",
   "execution_count": 55,
   "id": "43d9d236",
   "metadata": {},
   "outputs": [
    {
     "data": {
      "image/png": "[encoded data removed]",
      "text/plain": [
       "<Figure size 1000x600 with 1 Axes>"
      ]
     },
     "metadata": {},
     "output_type": "display_data"
    }
   ],
   "source": [
    "# Vẽ biểu đồ so sánh\n",
    "plt.figure(figsize=(10, 6))\n",
    "sns.barplot(data=liver_enzymes.reset_index().melt(id_vars='smoking'), x='variable', y='value', hue='smoking')\n",
    "plt.xlabel('Liver Enzymes')\n",
    "plt.ylabel('Mean Value')\n",
    "plt.title('Comparison of Liver Enzymes Between Smokers and Non-Smokers')\n",
    "plt.legend(title='Smoking')\n",
    "plt.show()\n"
   ]
  },
  {
   "cell_type": "markdown",
   "id": "edaff885",
   "metadata": {},
   "source": [
    "Question 4: Những người hút thuốc có tỷ lệ bị sâu răng và cao răng cao hơn so với những người không hút thuốc không?"
   ]
  },
  {
   "cell_type": "code",
   "execution_count": 56,
   "id": "18e181f7",
   "metadata": {},
   "outputs": [],
   "source": [
    "# Tỷ lệ sâu răng\n",
    "caries_rate_smokers = df1[df1['smoking']==1]['dental caries'].mean()\n",
    "caries_rate_non_smokers = df1[df1['smoking']==0]['dental caries'].mean()"
   ]
  },
  {
   "cell_type": "code",
   "execution_count": 57,
   "id": "58c9de02",
   "metadata": {},
   "outputs": [],
   "source": [
    "# Chuyển đổi cột 'tartar' sang dạng nhị phân\n",
    "df1['tartar_binary'] = (df1['tartar'].str.contains('Y', case=False)).astype(int)\n",
    "\n",
    "# Tỷ lệ cao răng\n",
    "tartar_rate_smokers = df1[df1['smoking']==1]['tartar_binary'].mean()\n",
    "tartar_rate_non_smokers = df1[df1['smoking']==0]['tartar_binary'].mean()\n"
   ]
  },
  {
   "cell_type": "code",
   "execution_count": 58,
   "id": "31a9c493",
   "metadata": {},
   "outputs": [],
   "source": [
    "# Dữ liệu cho biểu đồ\n",
    "df1 = [caries_rate_non_smokers, caries_rate_smokers, tartar_rate_non_smokers, tartar_rate_smokers]\n",
    "labels = ['Sâu răng\\n(Không hút thuốc)', 'Sâu răng\\n(Hút thuốc)', 'Cao răng\\n(Không hút thuốc)', 'Cao răng\\n(Hút thuốc)']"
   ]
  },
  {
   "cell_type": "code",
   "execution_count": 59,
   "id": "049cd479",
   "metadata": {},
   "outputs": [
    {
     "data": {
      "image/png": "[encoded data removed]",
      "text/plain": [
       "<Figure size 800x600 with 1 Axes>"
      ]
     },
     "metadata": {},
     "output_type": "display_data"
    }
   ],
   "source": [
    "# Vẽ biểu đồ\n",
    "fig, ax = plt.subplots(figsize=(8, 6))\n",
    "ax.bar(labels, df1)\n",
    "ax.set_ylabel('Tỷ lệ')\n",
    "ax.set_title('Tỷ lệ sâu răng và cao răng ở người hút thuốc và không hút thuốc')\n",
    "plt.show()"
   ]
  },
  {
   "cell_type": "markdown",
   "id": "4f1cb5d4",
   "metadata": {},
   "source": [
    "Question 5: Có sự khác biệt về mức cholesterol giữa những người hút thuốc và không hút thuốc không?"
   ]
  },
  {
   "cell_type": "code",
   "execution_count": null,
   "id": "53ef4992",
   "metadata": {},
   "outputs": [],
   "source": []
  }
 ],
 "metadata": {
  "kernelspec": {
   "display_name": "Python 3 (ipykernel)",
   "language": "python",
   "name": "python3"
  },
  "language_info": {
   "codemirror_mode": {
    "name": "ipython",
    "version": 3
   },
   "file_extension": ".py",
   "mimetype": "text/x-python",
   "name": "python",
   "nbconvert_exporter": "python",
   "pygments_lexer": "ipython3",
   "version": "3.11.5"
  }
 },
 "nbformat": 4,
 "nbformat_minor": 5
}
