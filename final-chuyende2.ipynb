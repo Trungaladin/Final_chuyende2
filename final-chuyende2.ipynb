{
 "cells": [
  {
   "cell_type": "markdown",
   "id": "3745f1f2",
   "metadata": {},
   "source": [
    "\n",
    "\n",
    "\n",
    "\n",
    "# Real-world Data Wrangling\n",
    "### Fullname: Nguyễn Văn Trung\n",
    "### ID: 21IT658\n",
    "### Class: 21KIT"
   ]
  },
  {
   "cell_type": "markdown",
   "id": "73408f8f",
   "metadata": {},
   "source": [
    "### 1. Gather data"
   ]
  },
  {
   "cell_type": "markdown",
   "id": "1edb2d19",
   "metadata": {},
   "source": [
    "### 1.1 Problem Statement\n",
    "This project aims to practice my skills of data wrangling using real-world datasets.\n",
    "\n",
    "Your statements here\n",
    "\n",
    "In this dataset, I would like to answer the following research questions:\n",
    "\n",
    "Question 1: Việc hút thuốc ảnh hưởng như thế nào đến chỉ số huyết áp?\n",
    "\n",
    "Question 2: Những người hút thuốc có chỉ số BMI (Body Mass Index) khác biệt so với những người không hút thuốc không?\n",
    "\n",
    "Question 3: Việc hút thuốc có ảnh hưởng đến các chỉ số men gan (AST, ALT, Gtp) không?\n",
    "\n",
    "Question 4: Những người hút thuốc có tỷ lệ bị sâu răng và cao răng cao hơn so với những người không hút thuốc không?\n",
    "\n",
    "Question 5: Tỷ lệ protein trong nước tiểu của người hút thuốc có cao hơn so với người không hút thuốc không?\n",
    "\n",
    "Question 6: Việc hút thuốc ảnh hưởng như thế nào đến thị lực (mắt trái và mắt phải)?"
   ]
  },
  {
   "cell_type": "markdown",
   "id": "0fc4cf88",
   "metadata": {},
   "source": [
    "### 1.2. Gather at least two datasets using two different data gathering methods\n",
    "Gather each of the 2 pieces of data from different sources:\n",
    "- Hoàng Văn Tùng"
   ]
  },
  {
   "cell_type": "code",
   "execution_count": 1,
   "id": "69707645",
   "metadata": {},
   "outputs": [],
   "source": [
    "# import libraries:\n",
    "import pandas as pd\n",
    "import matplotlib.pyplot as plt\n",
    "import seaborn as sns\n"
   ]
  },
  {
   "cell_type": "code",
   "execution_count": 2,
   "id": "40a85a57",
   "metadata": {},
   "outputs": [],
   "source": [
    "#FILL IN 1st data gathering and loading method\n",
    "# Đọc dữ liệu từ tập tin CSV\n",
    "df1 = pd.read_csv('smoking.csv')"
   ]
  },
  {
   "cell_type": "code",
   "execution_count": 3,
   "id": "db7ce7fb",
   "metadata": {
    "scrolled": true
   },
   "outputs": [
    {
     "data": {
      "text/html": [
       "<div>\n",
       "<style scoped>\n",
       "    .dataframe tbody tr th:only-of-type {\n",
       "        vertical-align: middle;\n",
       "    }\n",
       "\n",
       "    .dataframe tbody tr th {\n",
       "        vertical-align: top;\n",
       "    }\n",
       "\n",
       "    .dataframe thead th {\n",
       "        text-align: right;\n",
       "    }\n",
       "</style>\n",
       "<table border=\"1\" class=\"dataframe\">\n",
       "  <thead>\n",
       "    <tr style=\"text-align: right;\">\n",
       "      <th></th>\n",
       "      <th>ID</th>\n",
       "      <th>gender</th>\n",
       "      <th>age</th>\n",
       "      <th>height(cm)</th>\n",
       "      <th>weight(kg)</th>\n",
       "      <th>waist(cm)</th>\n",
       "      <th>eyesight(left)</th>\n",
       "      <th>eyesight(right)</th>\n",
       "      <th>hearing(left)</th>\n",
       "      <th>hearing(right)</th>\n",
       "      <th>...</th>\n",
       "      <th>hemoglobin</th>\n",
       "      <th>Urine protein</th>\n",
       "      <th>serum creatinine</th>\n",
       "      <th>AST</th>\n",
       "      <th>ALT</th>\n",
       "      <th>Gtp</th>\n",
       "      <th>oral</th>\n",
       "      <th>dental caries</th>\n",
       "      <th>tartar</th>\n",
       "      <th>smoking</th>\n",
       "    </tr>\n",
       "  </thead>\n",
       "  <tbody>\n",
       "    <tr>\n",
       "      <th>0</th>\n",
       "      <td>0</td>\n",
       "      <td>F</td>\n",
       "      <td>40</td>\n",
       "      <td>155</td>\n",
       "      <td>60</td>\n",
       "      <td>81.3</td>\n",
       "      <td>1.2</td>\n",
       "      <td>1.0</td>\n",
       "      <td>1.0</td>\n",
       "      <td>1.0</td>\n",
       "      <td>...</td>\n",
       "      <td>12.9</td>\n",
       "      <td>1.0</td>\n",
       "      <td>0.7</td>\n",
       "      <td>18.0</td>\n",
       "      <td>19.0</td>\n",
       "      <td>27.0</td>\n",
       "      <td>Y</td>\n",
       "      <td>0</td>\n",
       "      <td>Y</td>\n",
       "      <td>0</td>\n",
       "    </tr>\n",
       "    <tr>\n",
       "      <th>1</th>\n",
       "      <td>1</td>\n",
       "      <td>F</td>\n",
       "      <td>40</td>\n",
       "      <td>160</td>\n",
       "      <td>60</td>\n",
       "      <td>81.0</td>\n",
       "      <td>0.8</td>\n",
       "      <td>0.6</td>\n",
       "      <td>1.0</td>\n",
       "      <td>1.0</td>\n",
       "      <td>...</td>\n",
       "      <td>12.7</td>\n",
       "      <td>1.0</td>\n",
       "      <td>0.6</td>\n",
       "      <td>22.0</td>\n",
       "      <td>19.0</td>\n",
       "      <td>18.0</td>\n",
       "      <td>Y</td>\n",
       "      <td>0</td>\n",
       "      <td>Y</td>\n",
       "      <td>0</td>\n",
       "    </tr>\n",
       "    <tr>\n",
       "      <th>2</th>\n",
       "      <td>2</td>\n",
       "      <td>M</td>\n",
       "      <td>55</td>\n",
       "      <td>170</td>\n",
       "      <td>60</td>\n",
       "      <td>80.0</td>\n",
       "      <td>0.8</td>\n",
       "      <td>0.8</td>\n",
       "      <td>1.0</td>\n",
       "      <td>1.0</td>\n",
       "      <td>...</td>\n",
       "      <td>15.8</td>\n",
       "      <td>1.0</td>\n",
       "      <td>1.0</td>\n",
       "      <td>21.0</td>\n",
       "      <td>16.0</td>\n",
       "      <td>22.0</td>\n",
       "      <td>Y</td>\n",
       "      <td>0</td>\n",
       "      <td>N</td>\n",
       "      <td>1</td>\n",
       "    </tr>\n",
       "    <tr>\n",
       "      <th>3</th>\n",
       "      <td>3</td>\n",
       "      <td>M</td>\n",
       "      <td>40</td>\n",
       "      <td>165</td>\n",
       "      <td>70</td>\n",
       "      <td>88.0</td>\n",
       "      <td>1.5</td>\n",
       "      <td>1.5</td>\n",
       "      <td>1.0</td>\n",
       "      <td>1.0</td>\n",
       "      <td>...</td>\n",
       "      <td>14.7</td>\n",
       "      <td>1.0</td>\n",
       "      <td>1.0</td>\n",
       "      <td>19.0</td>\n",
       "      <td>26.0</td>\n",
       "      <td>18.0</td>\n",
       "      <td>Y</td>\n",
       "      <td>0</td>\n",
       "      <td>Y</td>\n",
       "      <td>0</td>\n",
       "    </tr>\n",
       "    <tr>\n",
       "      <th>4</th>\n",
       "      <td>4</td>\n",
       "      <td>F</td>\n",
       "      <td>40</td>\n",
       "      <td>155</td>\n",
       "      <td>60</td>\n",
       "      <td>86.0</td>\n",
       "      <td>1.0</td>\n",
       "      <td>1.0</td>\n",
       "      <td>1.0</td>\n",
       "      <td>1.0</td>\n",
       "      <td>...</td>\n",
       "      <td>12.5</td>\n",
       "      <td>1.0</td>\n",
       "      <td>0.6</td>\n",
       "      <td>16.0</td>\n",
       "      <td>14.0</td>\n",
       "      <td>22.0</td>\n",
       "      <td>Y</td>\n",
       "      <td>0</td>\n",
       "      <td>N</td>\n",
       "      <td>0</td>\n",
       "    </tr>\n",
       "  </tbody>\n",
       "</table>\n",
       "<p>5 rows × 27 columns</p>\n",
       "</div>"
      ],
      "text/plain": [
       "   ID gender  age  height(cm)  weight(kg)  waist(cm)  eyesight(left)  \\\n",
       "0   0      F   40         155          60       81.3             1.2   \n",
       "1   1      F   40         160          60       81.0             0.8   \n",
       "2   2      M   55         170          60       80.0             0.8   \n",
       "3   3      M   40         165          70       88.0             1.5   \n",
       "4   4      F   40         155          60       86.0             1.0   \n",
       "\n",
       "   eyesight(right)  hearing(left)  hearing(right)  ...  hemoglobin  \\\n",
       "0              1.0            1.0             1.0  ...        12.9   \n",
       "1              0.6            1.0             1.0  ...        12.7   \n",
       "2              0.8            1.0             1.0  ...        15.8   \n",
       "3              1.5            1.0             1.0  ...        14.7   \n",
       "4              1.0            1.0             1.0  ...        12.5   \n",
       "\n",
       "   Urine protein  serum creatinine   AST   ALT   Gtp  oral  dental caries  \\\n",
       "0            1.0               0.7  18.0  19.0  27.0     Y              0   \n",
       "1            1.0               0.6  22.0  19.0  18.0     Y              0   \n",
       "2            1.0               1.0  21.0  16.0  22.0     Y              0   \n",
       "3            1.0               1.0  19.0  26.0  18.0     Y              0   \n",
       "4            1.0               0.6  16.0  14.0  22.0     Y              0   \n",
       "\n",
       "   tartar  smoking  \n",
       "0       Y        0  \n",
       "1       Y        0  \n",
       "2       N        1  \n",
       "3       Y        0  \n",
       "4       N        0  \n",
       "\n",
       "[5 rows x 27 columns]"
      ]
     },
     "execution_count": 3,
     "metadata": {},
     "output_type": "execute_result"
    }
   ],
   "source": [
    "df1.head()"
   ]
  },
  {
   "cell_type": "code",
   "execution_count": null,
   "id": "9ea7e89d",
   "metadata": {},
   "outputs": [],
   "source": []
  },
  {
   "cell_type": "code",
   "execution_count": 4,
   "id": "f46b00c5",
   "metadata": {},
   "outputs": [],
   "source": [
    "#FILL IN 2nd data gathering and loading method\n",
    "df2 = pd.read_csv('list_of_real_usa_addresses.csv')"
   ]
  },
  {
   "cell_type": "code",
   "execution_count": 5,
   "id": "840d85f3",
   "metadata": {},
   "outputs": [
    {
     "data": {
      "text/html": [
       "<div>\n",
       "<style scoped>\n",
       "    .dataframe tbody tr th:only-of-type {\n",
       "        vertical-align: middle;\n",
       "    }\n",
       "\n",
       "    .dataframe tbody tr th {\n",
       "        vertical-align: top;\n",
       "    }\n",
       "\n",
       "    .dataframe thead th {\n",
       "        text-align: right;\n",
       "    }\n",
       "</style>\n",
       "<table border=\"1\" class=\"dataframe\">\n",
       "  <thead>\n",
       "    <tr style=\"text-align: right;\">\n",
       "      <th></th>\n",
       "      <th>address</th>\n",
       "      <th>city</th>\n",
       "      <th>state</th>\n",
       "      <th>zip</th>\n",
       "    </tr>\n",
       "  </thead>\n",
       "  <tbody>\n",
       "    <tr>\n",
       "      <th>0</th>\n",
       "      <td>777 Brockton Avenue</td>\n",
       "      <td>Abington</td>\n",
       "      <td>MA</td>\n",
       "      <td>2351</td>\n",
       "    </tr>\n",
       "    <tr>\n",
       "      <th>1</th>\n",
       "      <td>30 Memorial Drive</td>\n",
       "      <td>Avon</td>\n",
       "      <td>MA</td>\n",
       "      <td>2322</td>\n",
       "    </tr>\n",
       "    <tr>\n",
       "      <th>2</th>\n",
       "      <td>250 Hartford Avenue</td>\n",
       "      <td>Bellingham</td>\n",
       "      <td>MA</td>\n",
       "      <td>2019</td>\n",
       "    </tr>\n",
       "    <tr>\n",
       "      <th>3</th>\n",
       "      <td>700 Oak Street</td>\n",
       "      <td>Brockton</td>\n",
       "      <td>MA</td>\n",
       "      <td>2301</td>\n",
       "    </tr>\n",
       "    <tr>\n",
       "      <th>4</th>\n",
       "      <td>66-4 Parkhurst Rd</td>\n",
       "      <td>Chelmsford</td>\n",
       "      <td>MA</td>\n",
       "      <td>1824</td>\n",
       "    </tr>\n",
       "  </tbody>\n",
       "</table>\n",
       "</div>"
      ],
      "text/plain": [
       "               address        city state   zip\n",
       "0  777 Brockton Avenue    Abington    MA  2351\n",
       "1    30 Memorial Drive        Avon    MA  2322\n",
       "2  250 Hartford Avenue  Bellingham    MA  2019\n",
       "3       700 Oak Street    Brockton    MA  2301\n",
       "4    66-4 Parkhurst Rd  Chelmsford    MA  1824"
      ]
     },
     "execution_count": 5,
     "metadata": {},
     "output_type": "execute_result"
    }
   ],
   "source": [
    "# Write data to local file \n",
    "df2.head()"
   ]
  },
  {
   "cell_type": "markdown",
   "id": "6308e1e3",
   "metadata": {},
   "source": [
    "### 2. Assess data\n",
    "I will assess the data both visually and programmatically to identify any data quality(content) issues and tidiness(structual) issues.\n",
    "\n"
   ]
  },
  {
   "cell_type": "markdown",
   "id": "0500a16e",
   "metadata": {},
   "source": [
    "### Issue 1:"
   ]
  },
  {
   "cell_type": "markdown",
   "id": "22d972b6",
   "metadata": {},
   "source": [
    "# FILL IN - Inspecting the dataframe visually\n"
   ]
  },
  {
   "cell_type": "code",
   "execution_count": 6,
   "id": "3982f021",
   "metadata": {},
   "outputs": [
    {
     "data": {
      "text/html": [
       "<div>\n",
       "<style scoped>\n",
       "    .dataframe tbody tr th:only-of-type {\n",
       "        vertical-align: middle;\n",
       "    }\n",
       "\n",
       "    .dataframe tbody tr th {\n",
       "        vertical-align: top;\n",
       "    }\n",
       "\n",
       "    .dataframe thead th {\n",
       "        text-align: right;\n",
       "    }\n",
       "</style>\n",
       "<table border=\"1\" class=\"dataframe\">\n",
       "  <thead>\n",
       "    <tr style=\"text-align: right;\">\n",
       "      <th></th>\n",
       "      <th>ID</th>\n",
       "      <th>age</th>\n",
       "      <th>height(cm)</th>\n",
       "      <th>weight(kg)</th>\n",
       "      <th>waist(cm)</th>\n",
       "      <th>eyesight(left)</th>\n",
       "      <th>eyesight(right)</th>\n",
       "      <th>hearing(left)</th>\n",
       "      <th>hearing(right)</th>\n",
       "      <th>systolic</th>\n",
       "      <th>...</th>\n",
       "      <th>HDL</th>\n",
       "      <th>LDL</th>\n",
       "      <th>hemoglobin</th>\n",
       "      <th>Urine protein</th>\n",
       "      <th>serum creatinine</th>\n",
       "      <th>AST</th>\n",
       "      <th>ALT</th>\n",
       "      <th>Gtp</th>\n",
       "      <th>dental caries</th>\n",
       "      <th>smoking</th>\n",
       "    </tr>\n",
       "  </thead>\n",
       "  <tbody>\n",
       "    <tr>\n",
       "      <th>count</th>\n",
       "      <td>55692.000000</td>\n",
       "      <td>55692.000000</td>\n",
       "      <td>55692.000000</td>\n",
       "      <td>55692.000000</td>\n",
       "      <td>55692.000000</td>\n",
       "      <td>55692.000000</td>\n",
       "      <td>55692.000000</td>\n",
       "      <td>55692.000000</td>\n",
       "      <td>55692.000000</td>\n",
       "      <td>55692.000000</td>\n",
       "      <td>...</td>\n",
       "      <td>55692.000000</td>\n",
       "      <td>55692.000000</td>\n",
       "      <td>55692.000000</td>\n",
       "      <td>55692.000000</td>\n",
       "      <td>55692.000000</td>\n",
       "      <td>55692.000000</td>\n",
       "      <td>55692.000000</td>\n",
       "      <td>55692.000000</td>\n",
       "      <td>55692.000000</td>\n",
       "      <td>55692.000000</td>\n",
       "    </tr>\n",
       "    <tr>\n",
       "      <th>mean</th>\n",
       "      <td>27845.500000</td>\n",
       "      <td>44.182917</td>\n",
       "      <td>164.649321</td>\n",
       "      <td>65.864936</td>\n",
       "      <td>82.046418</td>\n",
       "      <td>1.012623</td>\n",
       "      <td>1.007443</td>\n",
       "      <td>1.025587</td>\n",
       "      <td>1.026144</td>\n",
       "      <td>121.494218</td>\n",
       "      <td>...</td>\n",
       "      <td>57.290347</td>\n",
       "      <td>114.964501</td>\n",
       "      <td>14.622592</td>\n",
       "      <td>1.087212</td>\n",
       "      <td>0.885738</td>\n",
       "      <td>26.182935</td>\n",
       "      <td>27.036037</td>\n",
       "      <td>39.952201</td>\n",
       "      <td>0.213334</td>\n",
       "      <td>0.367288</td>\n",
       "    </tr>\n",
       "    <tr>\n",
       "      <th>std</th>\n",
       "      <td>16077.039933</td>\n",
       "      <td>12.071418</td>\n",
       "      <td>9.194597</td>\n",
       "      <td>12.820306</td>\n",
       "      <td>9.274223</td>\n",
       "      <td>0.486873</td>\n",
       "      <td>0.485964</td>\n",
       "      <td>0.157902</td>\n",
       "      <td>0.159564</td>\n",
       "      <td>13.675989</td>\n",
       "      <td>...</td>\n",
       "      <td>14.738963</td>\n",
       "      <td>40.926476</td>\n",
       "      <td>1.564498</td>\n",
       "      <td>0.404882</td>\n",
       "      <td>0.221524</td>\n",
       "      <td>19.355460</td>\n",
       "      <td>30.947853</td>\n",
       "      <td>50.290539</td>\n",
       "      <td>0.409665</td>\n",
       "      <td>0.482070</td>\n",
       "    </tr>\n",
       "    <tr>\n",
       "      <th>min</th>\n",
       "      <td>0.000000</td>\n",
       "      <td>20.000000</td>\n",
       "      <td>130.000000</td>\n",
       "      <td>30.000000</td>\n",
       "      <td>51.000000</td>\n",
       "      <td>0.100000</td>\n",
       "      <td>0.100000</td>\n",
       "      <td>1.000000</td>\n",
       "      <td>1.000000</td>\n",
       "      <td>71.000000</td>\n",
       "      <td>...</td>\n",
       "      <td>4.000000</td>\n",
       "      <td>1.000000</td>\n",
       "      <td>4.900000</td>\n",
       "      <td>1.000000</td>\n",
       "      <td>0.100000</td>\n",
       "      <td>6.000000</td>\n",
       "      <td>1.000000</td>\n",
       "      <td>1.000000</td>\n",
       "      <td>0.000000</td>\n",
       "      <td>0.000000</td>\n",
       "    </tr>\n",
       "    <tr>\n",
       "      <th>25%</th>\n",
       "      <td>13922.750000</td>\n",
       "      <td>40.000000</td>\n",
       "      <td>160.000000</td>\n",
       "      <td>55.000000</td>\n",
       "      <td>76.000000</td>\n",
       "      <td>0.800000</td>\n",
       "      <td>0.800000</td>\n",
       "      <td>1.000000</td>\n",
       "      <td>1.000000</td>\n",
       "      <td>112.000000</td>\n",
       "      <td>...</td>\n",
       "      <td>47.000000</td>\n",
       "      <td>92.000000</td>\n",
       "      <td>13.600000</td>\n",
       "      <td>1.000000</td>\n",
       "      <td>0.800000</td>\n",
       "      <td>19.000000</td>\n",
       "      <td>15.000000</td>\n",
       "      <td>17.000000</td>\n",
       "      <td>0.000000</td>\n",
       "      <td>0.000000</td>\n",
       "    </tr>\n",
       "    <tr>\n",
       "      <th>50%</th>\n",
       "      <td>27845.500000</td>\n",
       "      <td>40.000000</td>\n",
       "      <td>165.000000</td>\n",
       "      <td>65.000000</td>\n",
       "      <td>82.000000</td>\n",
       "      <td>1.000000</td>\n",
       "      <td>1.000000</td>\n",
       "      <td>1.000000</td>\n",
       "      <td>1.000000</td>\n",
       "      <td>120.000000</td>\n",
       "      <td>...</td>\n",
       "      <td>55.000000</td>\n",
       "      <td>113.000000</td>\n",
       "      <td>14.800000</td>\n",
       "      <td>1.000000</td>\n",
       "      <td>0.900000</td>\n",
       "      <td>23.000000</td>\n",
       "      <td>21.000000</td>\n",
       "      <td>25.000000</td>\n",
       "      <td>0.000000</td>\n",
       "      <td>0.000000</td>\n",
       "    </tr>\n",
       "    <tr>\n",
       "      <th>75%</th>\n",
       "      <td>41768.250000</td>\n",
       "      <td>55.000000</td>\n",
       "      <td>170.000000</td>\n",
       "      <td>75.000000</td>\n",
       "      <td>88.000000</td>\n",
       "      <td>1.200000</td>\n",
       "      <td>1.200000</td>\n",
       "      <td>1.000000</td>\n",
       "      <td>1.000000</td>\n",
       "      <td>130.000000</td>\n",
       "      <td>...</td>\n",
       "      <td>66.000000</td>\n",
       "      <td>136.000000</td>\n",
       "      <td>15.800000</td>\n",
       "      <td>1.000000</td>\n",
       "      <td>1.000000</td>\n",
       "      <td>28.000000</td>\n",
       "      <td>31.000000</td>\n",
       "      <td>43.000000</td>\n",
       "      <td>0.000000</td>\n",
       "      <td>1.000000</td>\n",
       "    </tr>\n",
       "    <tr>\n",
       "      <th>max</th>\n",
       "      <td>55691.000000</td>\n",
       "      <td>85.000000</td>\n",
       "      <td>190.000000</td>\n",
       "      <td>135.000000</td>\n",
       "      <td>129.000000</td>\n",
       "      <td>9.900000</td>\n",
       "      <td>9.900000</td>\n",
       "      <td>2.000000</td>\n",
       "      <td>2.000000</td>\n",
       "      <td>240.000000</td>\n",
       "      <td>...</td>\n",
       "      <td>618.000000</td>\n",
       "      <td>1860.000000</td>\n",
       "      <td>21.100000</td>\n",
       "      <td>6.000000</td>\n",
       "      <td>11.600000</td>\n",
       "      <td>1311.000000</td>\n",
       "      <td>2914.000000</td>\n",
       "      <td>999.000000</td>\n",
       "      <td>1.000000</td>\n",
       "      <td>1.000000</td>\n",
       "    </tr>\n",
       "  </tbody>\n",
       "</table>\n",
       "<p>8 rows × 24 columns</p>\n",
       "</div>"
      ],
      "text/plain": [
       "                 ID           age    height(cm)    weight(kg)     waist(cm)  \\\n",
       "count  55692.000000  55692.000000  55692.000000  55692.000000  55692.000000   \n",
       "mean   27845.500000     44.182917    164.649321     65.864936     82.046418   \n",
       "std    16077.039933     12.071418      9.194597     12.820306      9.274223   \n",
       "min        0.000000     20.000000    130.000000     30.000000     51.000000   \n",
       "25%    13922.750000     40.000000    160.000000     55.000000     76.000000   \n",
       "50%    27845.500000     40.000000    165.000000     65.000000     82.000000   \n",
       "75%    41768.250000     55.000000    170.000000     75.000000     88.000000   \n",
       "max    55691.000000     85.000000    190.000000    135.000000    129.000000   \n",
       "\n",
       "       eyesight(left)  eyesight(right)  hearing(left)  hearing(right)  \\\n",
       "count    55692.000000     55692.000000   55692.000000    55692.000000   \n",
       "mean         1.012623         1.007443       1.025587        1.026144   \n",
       "std          0.486873         0.485964       0.157902        0.159564   \n",
       "min          0.100000         0.100000       1.000000        1.000000   \n",
       "25%          0.800000         0.800000       1.000000        1.000000   \n",
       "50%          1.000000         1.000000       1.000000        1.000000   \n",
       "75%          1.200000         1.200000       1.000000        1.000000   \n",
       "max          9.900000         9.900000       2.000000        2.000000   \n",
       "\n",
       "           systolic  ...           HDL           LDL    hemoglobin  \\\n",
       "count  55692.000000  ...  55692.000000  55692.000000  55692.000000   \n",
       "mean     121.494218  ...     57.290347    114.964501     14.622592   \n",
       "std       13.675989  ...     14.738963     40.926476      1.564498   \n",
       "min       71.000000  ...      4.000000      1.000000      4.900000   \n",
       "25%      112.000000  ...     47.000000     92.000000     13.600000   \n",
       "50%      120.000000  ...     55.000000    113.000000     14.800000   \n",
       "75%      130.000000  ...     66.000000    136.000000     15.800000   \n",
       "max      240.000000  ...    618.000000   1860.000000     21.100000   \n",
       "\n",
       "       Urine protein  serum creatinine           AST           ALT  \\\n",
       "count   55692.000000      55692.000000  55692.000000  55692.000000   \n",
       "mean        1.087212          0.885738     26.182935     27.036037   \n",
       "std         0.404882          0.221524     19.355460     30.947853   \n",
       "min         1.000000          0.100000      6.000000      1.000000   \n",
       "25%         1.000000          0.800000     19.000000     15.000000   \n",
       "50%         1.000000          0.900000     23.000000     21.000000   \n",
       "75%         1.000000          1.000000     28.000000     31.000000   \n",
       "max         6.000000         11.600000   1311.000000   2914.000000   \n",
       "\n",
       "                Gtp  dental caries       smoking  \n",
       "count  55692.000000   55692.000000  55692.000000  \n",
       "mean      39.952201       0.213334      0.367288  \n",
       "std       50.290539       0.409665      0.482070  \n",
       "min        1.000000       0.000000      0.000000  \n",
       "25%       17.000000       0.000000      0.000000  \n",
       "50%       25.000000       0.000000      0.000000  \n",
       "75%       43.000000       0.000000      1.000000  \n",
       "max      999.000000       1.000000      1.000000  \n",
       "\n",
       "[8 rows x 24 columns]"
      ]
     },
     "execution_count": 6,
     "metadata": {},
     "output_type": "execute_result"
    }
   ],
   "source": [
    "df1.describe()"
   ]
  },
  {
   "cell_type": "code",
   "execution_count": 7,
   "id": "5a690fb7",
   "metadata": {
    "scrolled": false
   },
   "outputs": [
    {
     "name": "stdout",
     "output_type": "stream",
     "text": [
      "<class 'pandas.core.frame.DataFrame'>\n",
      "RangeIndex: 55692 entries, 0 to 55691\n",
      "Data columns (total 27 columns):\n",
      " #   Column               Non-Null Count  Dtype  \n",
      "---  ------               --------------  -----  \n",
      " 0   ID                   55692 non-null  int64  \n",
      " 1   gender               55692 non-null  object \n",
      " 2   age                  55692 non-null  int64  \n",
      " 3   height(cm)           55692 non-null  int64  \n",
      " 4   weight(kg)           55692 non-null  int64  \n",
      " 5   waist(cm)            55692 non-null  float64\n",
      " 6   eyesight(left)       55692 non-null  float64\n",
      " 7   eyesight(right)      55692 non-null  float64\n",
      " 8   hearing(left)        55692 non-null  float64\n",
      " 9   hearing(right)       55692 non-null  float64\n",
      " 10  systolic             55692 non-null  float64\n",
      " 11  relaxation           55692 non-null  float64\n",
      " 12  fasting blood sugar  55692 non-null  float64\n",
      " 13  Cholesterol          55692 non-null  float64\n",
      " 14  triglyceride         55692 non-null  float64\n",
      " 15  HDL                  55692 non-null  float64\n",
      " 16  LDL                  55692 non-null  float64\n",
      " 17  hemoglobin           55692 non-null  float64\n",
      " 18  Urine protein        55692 non-null  float64\n",
      " 19  serum creatinine     55692 non-null  float64\n",
      " 20  AST                  55692 non-null  float64\n",
      " 21  ALT                  55692 non-null  float64\n",
      " 22  Gtp                  55692 non-null  float64\n",
      " 23  oral                 55692 non-null  object \n",
      " 24  dental caries        55692 non-null  int64  \n",
      " 25  tartar               55692 non-null  object \n",
      " 26  smoking              55692 non-null  int64  \n",
      "dtypes: float64(18), int64(6), object(3)\n",
      "memory usage: 11.5+ MB\n"
     ]
    }
   ],
   "source": [
    "df1.info()"
   ]
  },
  {
   "cell_type": "code",
   "execution_count": 8,
   "id": "af5d548a",
   "metadata": {},
   "outputs": [
    {
     "data": {
      "text/plain": [
       "ID                     0\n",
       "gender                 0\n",
       "age                    0\n",
       "height(cm)             0\n",
       "weight(kg)             0\n",
       "waist(cm)              0\n",
       "eyesight(left)         0\n",
       "eyesight(right)        0\n",
       "hearing(left)          0\n",
       "hearing(right)         0\n",
       "systolic               0\n",
       "relaxation             0\n",
       "fasting blood sugar    0\n",
       "Cholesterol            0\n",
       "triglyceride           0\n",
       "HDL                    0\n",
       "LDL                    0\n",
       "hemoglobin             0\n",
       "Urine protein          0\n",
       "serum creatinine       0\n",
       "AST                    0\n",
       "ALT                    0\n",
       "Gtp                    0\n",
       "oral                   0\n",
       "dental caries          0\n",
       "tartar                 0\n",
       "smoking                0\n",
       "dtype: int64"
      ]
     },
     "execution_count": 8,
     "metadata": {},
     "output_type": "execute_result"
    }
   ],
   "source": [
    "df1.isnull().sum()"
   ]
  },
  {
   "cell_type": "markdown",
   "id": "fbb50dfc",
   "metadata": {},
   "source": [
    "### Observations:\n",
    "- Tuổi nhỏ nhất là 20, nhưng chiều cao nhỏ nhất lại là 130cm, điều này là vô lí\n",
    "- Dataset không có missing value\n",
    "- Có các cột dữ liệu có kiểu dữ liệu không hợp lí\n",
    "\n"
   ]
  },
  {
   "cell_type": "code",
   "execution_count": 9,
   "id": "3896fb1e",
   "metadata": {},
   "outputs": [],
   "source": [
    "#FILL IN"
   ]
  },
  {
   "cell_type": "markdown",
   "id": "abace16c",
   "metadata": {},
   "source": [
    "### 3. Clean data\n",
    "- Nguyễn Văn Trung"
   ]
  },
  {
   "cell_type": "markdown",
   "id": "f0cdd3df",
   "metadata": {},
   "source": [
    "### Issue 1:"
   ]
  },
  {
   "cell_type": "code",
   "execution_count": 10,
   "id": "1750dee3",
   "metadata": {},
   "outputs": [],
   "source": [
    "# Chuyển đổi các cột có định dạng không phù hợp\n",
    "df1['age'] = df1['age'].astype(int)\n",
    "df1['height(cm)'] = df1['height(cm)'].astype(float)\n",
    "df1['weight(kg)'] = df1['weight(kg)'].astype(float)\n",
    "df1['waist(cm)'] = df1['waist(cm)'].astype(float)"
   ]
  },
  {
   "cell_type": "code",
   "execution_count": 11,
   "id": "ee22edc8",
   "metadata": {},
   "outputs": [],
   "source": [
    "# Thêm cột BMI\n",
    "df1['BMI'] = df1['weight(kg)'] / (df1['height(cm)'] / 100) ** 2"
   ]
  },
  {
   "cell_type": "code",
   "execution_count": 12,
   "id": "0833f34f",
   "metadata": {},
   "outputs": [
    {
     "name": "stdout",
     "output_type": "stream",
     "text": [
      "20 85\n",
      "130.0 190.0\n"
     ]
    }
   ],
   "source": [
    "# Kiểm tra độ tuổi\n",
    "print(df1['age'].min(), df1['age'].max())\n",
    "\n",
    "# Kiểm tra chiều cao\n",
    "print(df1['height(cm)'].min(), df1['height(cm)'].max())\n"
   ]
  },
  {
   "cell_type": "code",
   "execution_count": 13,
   "id": "e0881ba3",
   "metadata": {},
   "outputs": [],
   "source": [
    "# Loại bỏ các giá trị không hợp lý\n",
    "df1 = df1[(df1['age'] >= 18) & (df1['age'] <= 100) & (df1['height(cm)'] >= 150) & (df1['height(cm)'] <= 220)]"
   ]
  },
  {
   "cell_type": "markdown",
   "id": "5635db7f",
   "metadata": {},
   "source": [
    "### Remove unnecessary variables and combine datasets if needed\n",
    "- Nguyễn Văn Trung"
   ]
  },
  {
   "cell_type": "code",
   "execution_count": 14,
   "id": "ad6f9dcb",
   "metadata": {},
   "outputs": [],
   "source": [
    "df2 = df2.drop(columns=['zip'])"
   ]
  },
  {
   "cell_type": "code",
   "execution_count": 15,
   "id": "a04e3cf1",
   "metadata": {},
   "outputs": [],
   "source": [
    "df1 = df1.drop(columns=['oral'])"
   ]
  },
  {
   "cell_type": "code",
   "execution_count": 16,
   "id": "6ba3eb89",
   "metadata": {},
   "outputs": [],
   "source": [
    "df1 = df1.drop(columns=['hemoglobin'])"
   ]
  },
  {
   "cell_type": "code",
   "execution_count": null,
   "id": "2832b0d0",
   "metadata": {},
   "outputs": [],
   "source": []
  },
  {
   "cell_type": "markdown",
   "id": "5884a066",
   "metadata": {},
   "source": [
    "### Merge file\n",
    "- Nguyễn Lê Như Nghĩa"
   ]
  },
  {
   "cell_type": "code",
   "execution_count": 200,
   "id": "f93cec79",
   "metadata": {},
   "outputs": [],
   "source": [
    "# Đọc hai file CSV\n",
    "df1 = pd.read_csv('smoking.csv')\n",
    "df2 = pd.read_csv('list_of_real_usa_addresses.csv')\n",
    "\n",
    "# Gộp hai DataFrame lại với nhau theo cột\n",
    "merged_df = pd.concat([df1, df2], axis=1)\n",
    "\n",
    "# Lưu DataFrame đã gộp thành file CSV mới\n",
    "merged_df.to_csv('merged_file.csv', index=False)"
   ]
  },
  {
   "cell_type": "code",
   "execution_count": 201,
   "id": "ad394d28",
   "metadata": {},
   "outputs": [
    {
     "data": {
      "text/html": [
       "<div>\n",
       "<style scoped>\n",
       "    .dataframe tbody tr th:only-of-type {\n",
       "        vertical-align: middle;\n",
       "    }\n",
       "\n",
       "    .dataframe tbody tr th {\n",
       "        vertical-align: top;\n",
       "    }\n",
       "\n",
       "    .dataframe thead th {\n",
       "        text-align: right;\n",
       "    }\n",
       "</style>\n",
       "<table border=\"1\" class=\"dataframe\">\n",
       "  <thead>\n",
       "    <tr style=\"text-align: right;\">\n",
       "      <th></th>\n",
       "      <th>ID</th>\n",
       "      <th>gender</th>\n",
       "      <th>age</th>\n",
       "      <th>height(cm)</th>\n",
       "      <th>weight(kg)</th>\n",
       "      <th>waist(cm)</th>\n",
       "      <th>eyesight(left)</th>\n",
       "      <th>eyesight(right)</th>\n",
       "      <th>hearing(left)</th>\n",
       "      <th>hearing(right)</th>\n",
       "      <th>...</th>\n",
       "      <th>ALT</th>\n",
       "      <th>Gtp</th>\n",
       "      <th>oral</th>\n",
       "      <th>dental caries</th>\n",
       "      <th>tartar</th>\n",
       "      <th>smoking</th>\n",
       "      <th>address</th>\n",
       "      <th>city</th>\n",
       "      <th>state</th>\n",
       "      <th>zip</th>\n",
       "    </tr>\n",
       "  </thead>\n",
       "  <tbody>\n",
       "    <tr>\n",
       "      <th>0</th>\n",
       "      <td>0</td>\n",
       "      <td>F</td>\n",
       "      <td>40</td>\n",
       "      <td>155</td>\n",
       "      <td>60</td>\n",
       "      <td>81.3</td>\n",
       "      <td>1.2</td>\n",
       "      <td>1.0</td>\n",
       "      <td>1.0</td>\n",
       "      <td>1.0</td>\n",
       "      <td>...</td>\n",
       "      <td>19.0</td>\n",
       "      <td>27.0</td>\n",
       "      <td>Y</td>\n",
       "      <td>0</td>\n",
       "      <td>Y</td>\n",
       "      <td>0</td>\n",
       "      <td>777 Brockton Avenue</td>\n",
       "      <td>Abington</td>\n",
       "      <td>MA</td>\n",
       "      <td>2351.0</td>\n",
       "    </tr>\n",
       "    <tr>\n",
       "      <th>1</th>\n",
       "      <td>1</td>\n",
       "      <td>F</td>\n",
       "      <td>40</td>\n",
       "      <td>160</td>\n",
       "      <td>60</td>\n",
       "      <td>81.0</td>\n",
       "      <td>0.8</td>\n",
       "      <td>0.6</td>\n",
       "      <td>1.0</td>\n",
       "      <td>1.0</td>\n",
       "      <td>...</td>\n",
       "      <td>19.0</td>\n",
       "      <td>18.0</td>\n",
       "      <td>Y</td>\n",
       "      <td>0</td>\n",
       "      <td>Y</td>\n",
       "      <td>0</td>\n",
       "      <td>30 Memorial Drive</td>\n",
       "      <td>Avon</td>\n",
       "      <td>MA</td>\n",
       "      <td>2322.0</td>\n",
       "    </tr>\n",
       "    <tr>\n",
       "      <th>2</th>\n",
       "      <td>2</td>\n",
       "      <td>M</td>\n",
       "      <td>55</td>\n",
       "      <td>170</td>\n",
       "      <td>60</td>\n",
       "      <td>80.0</td>\n",
       "      <td>0.8</td>\n",
       "      <td>0.8</td>\n",
       "      <td>1.0</td>\n",
       "      <td>1.0</td>\n",
       "      <td>...</td>\n",
       "      <td>16.0</td>\n",
       "      <td>22.0</td>\n",
       "      <td>Y</td>\n",
       "      <td>0</td>\n",
       "      <td>N</td>\n",
       "      <td>1</td>\n",
       "      <td>250 Hartford Avenue</td>\n",
       "      <td>Bellingham</td>\n",
       "      <td>MA</td>\n",
       "      <td>2019.0</td>\n",
       "    </tr>\n",
       "    <tr>\n",
       "      <th>3</th>\n",
       "      <td>3</td>\n",
       "      <td>M</td>\n",
       "      <td>40</td>\n",
       "      <td>165</td>\n",
       "      <td>70</td>\n",
       "      <td>88.0</td>\n",
       "      <td>1.5</td>\n",
       "      <td>1.5</td>\n",
       "      <td>1.0</td>\n",
       "      <td>1.0</td>\n",
       "      <td>...</td>\n",
       "      <td>26.0</td>\n",
       "      <td>18.0</td>\n",
       "      <td>Y</td>\n",
       "      <td>0</td>\n",
       "      <td>Y</td>\n",
       "      <td>0</td>\n",
       "      <td>700 Oak Street</td>\n",
       "      <td>Brockton</td>\n",
       "      <td>MA</td>\n",
       "      <td>2301.0</td>\n",
       "    </tr>\n",
       "    <tr>\n",
       "      <th>4</th>\n",
       "      <td>4</td>\n",
       "      <td>F</td>\n",
       "      <td>40</td>\n",
       "      <td>155</td>\n",
       "      <td>60</td>\n",
       "      <td>86.0</td>\n",
       "      <td>1.0</td>\n",
       "      <td>1.0</td>\n",
       "      <td>1.0</td>\n",
       "      <td>1.0</td>\n",
       "      <td>...</td>\n",
       "      <td>14.0</td>\n",
       "      <td>22.0</td>\n",
       "      <td>Y</td>\n",
       "      <td>0</td>\n",
       "      <td>N</td>\n",
       "      <td>0</td>\n",
       "      <td>66-4 Parkhurst Rd</td>\n",
       "      <td>Chelmsford</td>\n",
       "      <td>MA</td>\n",
       "      <td>1824.0</td>\n",
       "    </tr>\n",
       "  </tbody>\n",
       "</table>\n",
       "<p>5 rows × 31 columns</p>\n",
       "</div>"
      ],
      "text/plain": [
       "   ID gender  age  height(cm)  weight(kg)  waist(cm)  eyesight(left)  \\\n",
       "0   0      F   40         155          60       81.3             1.2   \n",
       "1   1      F   40         160          60       81.0             0.8   \n",
       "2   2      M   55         170          60       80.0             0.8   \n",
       "3   3      M   40         165          70       88.0             1.5   \n",
       "4   4      F   40         155          60       86.0             1.0   \n",
       "\n",
       "   eyesight(right)  hearing(left)  hearing(right)  ...   ALT   Gtp  oral  \\\n",
       "0              1.0            1.0             1.0  ...  19.0  27.0     Y   \n",
       "1              0.6            1.0             1.0  ...  19.0  18.0     Y   \n",
       "2              0.8            1.0             1.0  ...  16.0  22.0     Y   \n",
       "3              1.5            1.0             1.0  ...  26.0  18.0     Y   \n",
       "4              1.0            1.0             1.0  ...  14.0  22.0     Y   \n",
       "\n",
       "   dental caries  tartar  smoking              address        city  state  \\\n",
       "0              0       Y        0  777 Brockton Avenue    Abington     MA   \n",
       "1              0       Y        0    30 Memorial Drive        Avon     MA   \n",
       "2              0       N        1  250 Hartford Avenue  Bellingham     MA   \n",
       "3              0       Y        0       700 Oak Street    Brockton     MA   \n",
       "4              0       N        0    66-4 Parkhurst Rd  Chelmsford     MA   \n",
       "\n",
       "      zip  \n",
       "0  2351.0  \n",
       "1  2322.0  \n",
       "2  2019.0  \n",
       "3  2301.0  \n",
       "4  1824.0  \n",
       "\n",
       "[5 rows x 31 columns]"
      ]
     },
     "execution_count": 201,
     "metadata": {},
     "output_type": "execute_result"
    }
   ],
   "source": [
    "merged_df.head(5)"
   ]
  },
  {
   "cell_type": "markdown",
   "id": "bdbe334d",
   "metadata": {},
   "source": [
    "## Answer the research question"
   ]
  },
  {
   "cell_type": "markdown",
   "id": "8d1bb8e9",
   "metadata": {},
   "source": [
    "Question 1: Việc hút thuốc ảnh hưởng như thế nào đến chỉ số huyết áp (tâm thu và tâm trương)?\n",
    "- Nguyễn Văn Trung"
   ]
  },
  {
   "cell_type": "code",
   "execution_count": 17,
   "id": "05bcf3a6",
   "metadata": {},
   "outputs": [],
   "source": [
    "# Lọc dữ liệu cho nhóm không hút thuốc\n",
    "non_smokers = df1[df1['smoking'] == 0]\n",
    "non_smokers_bp = non_smokers[['systolic', 'relaxation']]"
   ]
  },
  {
   "cell_type": "code",
   "execution_count": 18,
   "id": "19bca4cb",
   "metadata": {},
   "outputs": [],
   "source": [
    "# Lọc dữ liệu cho nhóm hút thuốc\n",
    "smokers = df1[df1['smoking'] == 1]\n",
    "smokers_bp = smokers[['systolic', 'relaxation']]"
   ]
  },
  {
   "cell_type": "code",
   "execution_count": 19,
   "id": "c6d176cf",
   "metadata": {},
   "outputs": [],
   "source": [
    "# Tính giá trị trung bình huyết áp cho cả hai nhóm\n",
    "mean_non_smokers_bp = non_smokers_bp.mean()\n",
    "mean_smokers_bp = smokers_bp.mean()"
   ]
  },
  {
   "cell_type": "code",
   "execution_count": 20,
   "id": "97fb7908",
   "metadata": {},
   "outputs": [
    {
     "data": {
      "image/png": "[encoded data removed]",
      "text/plain": [
       "<Figure size 1000x600 with 1 Axes>"
      ]
     },
     "metadata": {},
     "output_type": "display_data"
    }
   ],
   "source": [
    "# Vẽ biểu đồ so sánh huyết áp giữa hai nhóm\n",
    "plt.figure(figsize=(10, 6))\n",
    "plt.bar(['Non-smokers', 'Smokers'], mean_non_smokers_bp, label='Non-Smokers')\n",
    "plt.bar(['Non-smokers', 'Smokers'], mean_smokers_bp, label='Smokers')\n",
    "plt.xlabel('Nhóm người')\n",
    "plt.ylabel('Huyết áp')\n",
    "plt.title('So sánh huyết áp người hút thuốc và không hút thuốc')\n",
    "#plt.legend()\n",
    "plt.show()"
   ]
  },
  {
   "cell_type": "markdown",
   "id": "903f5c21",
   "metadata": {},
   "source": [
    "Justifications question 1: Người hút thuốc có chỉ số huyết áp thấp hơn (ở dưới mức bình thường) so với người không hút thuốc lá.\n",
    "+ Người hút thuốc: 80\n",
    "+ Người không hút thuốc: 120"
   ]
  },
  {
   "cell_type": "markdown",
   "id": "9d02dc8b",
   "metadata": {},
   "source": [
    "Question 2:   Những người hút thuốc có chỉ số BMI (Body Mass Index) khác biệt so với những người không hút thuốc không?\n",
    "- Nguyễn Văn Trung"
   ]
  },
  {
   "cell_type": "code",
   "execution_count": 21,
   "id": "5db84993",
   "metadata": {},
   "outputs": [
    {
     "name": "stdout",
     "output_type": "stream",
     "text": [
      "smoking\n",
      "0    23.858989\n",
      "1    24.655582\n",
      "Name: BMI, dtype: float64\n"
     ]
    }
   ],
   "source": [
    "# Tính toán giá trị trung bình của BMI cho người hút thuốc và không hút thuốc\n",
    "bmi_by_smoking = df1.groupby('smoking')['BMI'].mean()\n",
    "print(bmi_by_smoking)"
   ]
  },
  {
   "cell_type": "code",
   "execution_count": 22,
   "id": "0d651187",
   "metadata": {},
   "outputs": [
    {
     "data": {
      "image/png": "[encoded data removed]",
      "text/plain": [
       "<Figure size 800x600 with 1 Axes>"
      ]
     },
     "metadata": {},
     "output_type": "display_data"
    }
   ],
   "source": [
    "# Vẽ biểu đồ so sánh chỉ số BMI giữa người hút thuốc và không hút thuốc\n",
    "plt.figure(figsize=(8, 6))\n",
    "sns.barplot(x=bmi_by_smoking.index, y=bmi_by_smoking.values)\n",
    "plt.xlabel('Smoking')\n",
    "plt.ylabel('Average BMI')\n",
    "plt.title('Average BMI of Smokers vs Non-Smokers')\n",
    "plt.xticks([0, 1], ['Non-Smokers', 'Smokers'])\n",
    "plt.show()"
   ]
  },
  {
   "cell_type": "markdown",
   "id": "1e5dc75b",
   "metadata": {},
   "source": [
    "Justifications question 2: Về chỉ số cơ thể BMI thì không có sự chênh lệch quá nhiều giữa người hút thuốc là và không hút thuốc lá"
   ]
  },
  {
   "cell_type": "markdown",
   "id": "6703f614",
   "metadata": {},
   "source": [
    "Question 3:  Việc hút thuốc có ảnh hưởng đến các chỉ số men gan (AST, ALT, Gtp) không?\n",
    "- Hoàng Văn Tùng"
   ]
  },
  {
   "cell_type": "code",
   "execution_count": 23,
   "id": "94153d0e",
   "metadata": {},
   "outputs": [
    {
     "name": "stdout",
     "output_type": "stream",
     "text": [
      "               AST        ALT        Gtp\n",
      "smoking                                 \n",
      "0        25.204653  24.743881  31.009903\n",
      "1        27.695778  31.009208  55.573276\n"
     ]
    }
   ],
   "source": [
    "# Tính toán giá trị trung bình của AST, ALT, Gtp cho người hút thuốc và không hút thuốc\n",
    "liver_enzymes = df1.groupby('smoking')[['AST', 'ALT', 'Gtp']].mean()\n",
    "\n",
    "print(liver_enzymes)"
   ]
  },
  {
   "cell_type": "code",
   "execution_count": 24,
   "id": "43d9d236",
   "metadata": {},
   "outputs": [
    {
     "data": {
      "image/png": "[encoded data removed]",
      "text/plain": [
       "<Figure size 1000x600 with 1 Axes>"
      ]
     },
     "metadata": {},
     "output_type": "display_data"
    }
   ],
   "source": [
    "# Vẽ biểu đồ so sánh\n",
    "plt.figure(figsize=(10, 6))\n",
    "sns.barplot(data=liver_enzymes.reset_index().melt(id_vars='smoking'), x='variable', y='value', hue='smoking')\n",
    "plt.xlabel('Liver Enzymes')\n",
    "plt.ylabel('Mean Value')\n",
    "plt.title('So sánh men gan giữa người hút thuốc và người không hút thuốc')\n",
    "plt.legend(title='Smoking')\n",
    "plt.show()\n"
   ]
  },
  {
   "cell_type": "markdown",
   "id": "17a8bf04",
   "metadata": {},
   "source": [
    "Justifications question 3: \n",
    "- Ta có thể thấy rõ cả 3 chỉ số AST, ALT, GTP của người hút thuốc là đều cao hơn người không hút thuốc lá. Song theo như cách đọc chỉ số(AST từ 10-40 đơn vị/lít (U/L), ALT 7 - 56 đơn vị/lít (U/L), GGT Nam giới: 9 - 48 đơn vị/lít (U/L) Nữ giới: 8 - 40 đơn vị/lít (U/L)) thì ta có thể thấy cả AST và ALT đều bình thường, thế mà chỉ số GTP cao gần gấp đôi so với người không hút thuốc lá và vượt khoảng an toàn, gây ảnh hưởng trực tiếp đến sức khoẻ.\n"
   ]
  },
  {
   "cell_type": "markdown",
   "id": "edaff885",
   "metadata": {},
   "source": [
    "Question 4: Những người hút thuốc có tỷ lệ bị sâu răng và cao răng cao hơn so với những người không hút thuốc không?\n",
    "- Hoàng Văn Tùng"
   ]
  },
  {
   "cell_type": "code",
   "execution_count": 25,
   "id": "049cd479",
   "metadata": {},
   "outputs": [
    {
     "data": {
      "image/png": "[encoded data removed]",
      "text/plain": [
       "<Figure size 800x600 with 1 Axes>"
      ]
     },
     "metadata": {},
     "output_type": "display_data"
    }
   ],
   "source": [
    "# Tỷ lệ sâu răng\n",
    "caries_rate_smokers = df1[df1['smoking']==1]['dental caries'].mean()\n",
    "caries_rate_non_smokers = df1[df1['smoking']==0]['dental caries'].mean()\n",
    "# Chuyển đổi cột 'tartar' sang dạng nhị phân\n",
    "df1['tartar_binary'] = (df1['tartar'].str.contains('Y', case=False)).astype(int)\n",
    "\n",
    "# Tỷ lệ cao răng\n",
    "tartar_rate_smokers = df1[df1['smoking']==1]['tartar_binary'].mean()\n",
    "tartar_rate_non_smokers = df1[df1['smoking']==0]['tartar_binary'].mean()\n",
    "# Dữ liệu cho biểu đồ\n",
    "df1 = [caries_rate_non_smokers, caries_rate_smokers, tartar_rate_non_smokers, tartar_rate_smokers]\n",
    "labels = ['Sâu răng\\n(Không hút thuốc)', 'Sâu răng\\n(Hút thuốc)', 'Cao răng\\n(Không hút thuốc)', 'Cao răng\\n(Hút thuốc)']\n",
    "# Vẽ biểu đồ\n",
    "fig, ax = plt.subplots(figsize=(8, 6))\n",
    "bars = ax.bar(labels, df1, color=['blue', 'red', 'blue', 'red'])\n",
    "for bar in bars:\n",
    "    height = bar.get_height()\n",
    "    ax.annotate(f'{height:.2f}',\n",
    "                xy=(bar.get_x() + bar.get_width() / 2, height),\n",
    "                xytext=(0, 3),  # 3 points vertical offset\n",
    "                textcoords=\"offset points\",\n",
    "                ha='center', va='bottom')\n",
    "ax.set_ylabel('Tỷ lệ')\n",
    "ax.set_title('Tỷ lệ sâu răng và cao răng ở người hút thuốc và không hút thuốc')\n",
    "plt.show()"
   ]
  },
  {
   "cell_type": "markdown",
   "id": "bba5afd3",
   "metadata": {},
   "source": [
    "Justifications question 4:\n",
    "- Theo như biểu đồ ta có thể thấy, người hút thuốc có tỉ lệ sâu răng và cao răng cao hơn người không hút thuốc. Nhất là sâu răng cao gấp 1.5 lần."
   ]
  },
  {
   "cell_type": "markdown",
   "id": "4f1cb5d4",
   "metadata": {},
   "source": [
    "Question 5:  Tỷ lệ protein trong nước tiểu của người hút thuốc có cao hơn so với người không hút thuốc không?\n",
    "- Nguyễn Lê Như Nghĩa"
   ]
  },
  {
   "cell_type": "code",
   "execution_count": 186,
   "id": "53ef4992",
   "metadata": {},
   "outputs": [
    {
     "name": "stdout",
     "output_type": "stream",
     "text": [
      "Mức độ protein trong nước tiểu:\n",
      "Người hút thuốc:  1.094793449034466\n",
      "Người không hút thuốc: 1.0828106819536283\n",
      "t-statistic: 3.37\n",
      "p-value: 0.0008\n",
      "Mức protein trong nước tiểu ở người hút thuốc cao hơn đáng kể so với người không hút thuốc.\n"
     ]
    }
   ],
   "source": [
    "df1 = pd.read_csv('smoking.csv')\n",
    "# Extract the relevant data\n",
    "smokers = df1[df1['smoking'] == 1]\n",
    "non_smokers = df1[df1['smoking'] == 0]\n",
    "\n",
    "# Compare the urinary protein levels\n",
    "print(\"Mức độ protein trong nước tiểu:\")\n",
    "print(\"Người hút thuốc: \", smokers['Urine protein'].mean())\n",
    "print(\"Người không hút thuốc:\", non_smokers['Urine protein'].mean())\n",
    "\n",
    "# Perform a t-test to check for statistical significance\n",
    "from scipy.stats import ttest_ind\n",
    "t_stat, p_value = ttest_ind(smokers['Urine protein'], non_smokers['Urine protein'])\n",
    "\n",
    "print(f\"t-statistic: {t_stat:.2f}\")\n",
    "print(f\"p-value: {p_value:.4f}\")\n",
    "\n",
    "if p_value < 0.05:\n",
    "    print(\"Mức protein trong nước tiểu ở người hút thuốc cao hơn đáng kể so với người không hút thuốc.\")\n",
    "else:\n",
    "    print(\"Không có sự khác biệt đáng kể về nồng độ protein trong nước tiểu giữa người hút thuốc và người không hút thuốc.\")"
   ]
  },
  {
   "cell_type": "code",
   "execution_count": 187,
   "id": "d894026e",
   "metadata": {},
   "outputs": [
    {
     "data": {
      "text/plain": [
       "<Figure size 1200x600 with 0 Axes>"
      ]
     },
     "metadata": {},
     "output_type": "display_data"
    },
    {
     "data": {
      "image/png": "[encoded data removed]",
      "text/plain": [
       "<Figure size 640x480 with 1 Axes>"
      ]
     },
     "metadata": {},
     "output_type": "display_data"
    }
   ],
   "source": [
    "import matplotlib.pyplot as plt\n",
    "\n",
    "plt.figure(figsize=(12, 6))\n",
    "df1.groupby('smoking')[['Cholesterol', 'triglyceride', 'HDL', 'LDL']].mean().plot(kind='bar')\n",
    "\n",
    "# Thêm tiêu đề và chú thích\n",
    "plt.title('Chỉ số sức khỏe theo tình trạng hút thuốc')\n",
    "plt.xlabel('(0: Không hút, 1: Có hút)')\n",
    "plt.ylabel('Giá trị trung bình')\n",
    "plt.legend(['Cholesterol', 'Triglyceride', 'HDL', 'LDL'], title='Chỉ số sức khỏe')\n",
    "plt.show()"
   ]
  },
  {
   "cell_type": "markdown",
   "id": "11caf5da",
   "metadata": {},
   "source": [
    "Justifications question 5: \n",
    "- Nhóm hút thuốc (1: Có hút): Chỉ số Cholesterol, Triglyceride và LDL (Low-Density Lipoprotein) đều cao hơn so với nhóm không hút thuốc. Chỉ số HDL (High-Density Lipoprotein) thấp hơn.\n",
    "\n",
    "- Nhóm không hút thuốc (0: Không hút): Chỉ số Cholesterol, Triglyceride và LDL thấp hơn. Chỉ số HDL cao hơn."
   ]
  },
  {
   "cell_type": "markdown",
   "id": "c3895cab",
   "metadata": {},
   "source": [
    "Question 6: Việc hút thuốc ảnh hưởng như thế nào đến thị lực (mắt trái và mắt phải)?\n",
    "- Nguyễn Lê Như Nghĩa"
   ]
  },
  {
   "cell_type": "code",
   "execution_count": 188,
   "id": "eff3ffb0",
   "metadata": {},
   "outputs": [
    {
     "data": {
      "image/png": "[encoded data removed]",
      "text/plain": [
       "<Figure size 1200x500 with 2 Axes>"
      ]
     },
     "metadata": {},
     "output_type": "display_data"
    }
   ],
   "source": [
    "# Phân tích tác động của việc hút thuốc đến thị lực\n",
    "fig, ax = plt.subplots(1, 2, figsize=(12, 5))\n",
    "\n",
    "# Thị lực (mắt trái)\n",
    "ax[0].boxplot([df1['eyesight(left)'][df1['smoking'] == 0], df1['eyesight(left)'][df1['smoking'] == 1]], labels=['Người không hút thuốc', 'Người hút thuốc'])\n",
    "ax[0].set_title('Thị lực (Mắt trái)')\n",
    "ax[0].set_xlabel('Tình trạng hút thuốc')\n",
    "ax[0].set_ylabel('Thị lực')\n",
    "\n",
    "# Thị lực (mắt phải)\n",
    "ax[1].boxplot([df1['eyesight(right)'][df1['smoking'] == 0], df1['eyesight(right)'][df1['smoking'] == 1]], labels=['Người không hút thuốc', 'Người hút thuốc'])\n",
    "ax[1].set_title('Thị lực (Mắt phải)')\n",
    "ax[1].set_xlabel('Tình trạng hút thuốc')\n",
    "ax[1].set_ylabel('Thị lực')\n",
    "\n",
    "plt.suptitle('Tác động của việc hút thuốc đến thị lực')\n",
    "plt.show()"
   ]
  },
  {
   "cell_type": "markdown",
   "id": "75f51969",
   "metadata": {},
   "source": [
    "Justifications question 6:  \n",
    "- Thị lực (mắt trái): Người không hút thuốc có thị lực mắt trái tập trung ở mức cao hơn so với người hút thuốc. Hộp thể hiện mức trung vị của thị lực mắt trái ở nhóm không hút thuốc cao hơn nhóm hút thuốc, cho thấy người không hút thuốc có thị lực mắt trái tốt hơn. Khoảng tứ phân vị (phản ánh sự phân tán) của thị lực mắt trái ở nhóm hút thuốc rộng hơn so với nhóm không hút thuốc, chứng tỏ thị lực mắt trái ở nhóm hút thuốc có sự biến động lớn hơn. Thị lực (mắt phải): Tương tự như mắt trái, người không hút thuốc có thị lực mắt phải tập trung ở mức cao hơn so với người hút thuốc. Hộp thể hiện mức trung vị của thị lực mắt phải ở nhóm không hút thuốc cao hơn nhóm hút thuốc, chứng tỏ người không hút thuốc có thị lực mắt phải tốt hơn. Khoảng tứ phân vị của thị lực mắt phải ở nhóm hút thuốc cũng rộng hơn so với nhóm không hút thuốc, cho thấy sự biến động lớn hơn."
   ]
  },
  {
   "cell_type": "markdown",
   "id": "73cc9216",
   "metadata": {},
   "source": [
    "### Reflection"
   ]
  },
  {
   "cell_type": "markdown",
   "id": "ec607d03",
   "metadata": {},
   "source": [
    "Sau các bước trên, tôi đã có dữ liệu rõ ràng và các câu hỏi nghiên cứu. Bằng cách sử dụng các câu hỏi nghiên cứu chúng tôi có thể nhận thấy các chỉ số sức khỏe với người hút thuốc và không hút thuốc. Trong tương lai sẽ tiếp tục theo dõi thêm về các chỉ số sức khỏe khác."
   ]
  },
  {
   "cell_type": "code",
   "execution_count": null,
   "id": "a22c7cdd",
   "metadata": {},
   "outputs": [],
   "source": []
  }
 ],
 "metadata": {
  "kernelspec": {
   "display_name": "Python 3 (ipykernel)",
   "language": "python",
   "name": "python3"
  },
  "language_info": {
   "codemirror_mode": {
    "name": "ipython",
    "version": 3
   },
   "file_extension": ".py",
   "mimetype": "text/x-python",
   "name": "python",
   "nbconvert_exporter": "python",
   "pygments_lexer": "ipython3",
   "version": "3.11.5"
  }
 },
 "nbformat": 4,
 "nbformat_minor": 5
}
